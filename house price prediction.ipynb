{
 "cells": [
  {
   "cell_type": "code",
   "execution_count": 1,
   "id": "39dbee16",
   "metadata": {
    "_cell_guid": "b1076dfc-b9ad-4769-8c92-a6c4dae69d19",
    "_uuid": "8f2839f25d086af736a60e9eeb907d3b93b6e0e5",
    "execution": {
     "iopub.execute_input": "2024-09-18T14:52:12.419696Z",
     "iopub.status.busy": "2024-09-18T14:52:12.419047Z",
     "iopub.status.idle": "2024-09-18T14:52:12.906876Z",
     "shell.execute_reply": "2024-09-18T14:52:12.905489Z"
    },
    "papermill": {
     "duration": 0.509856,
     "end_time": "2024-09-18T14:52:12.910129",
     "exception": false,
     "start_time": "2024-09-18T14:52:12.400273",
     "status": "completed"
    },
    "tags": []
   },
   "outputs": [
    {
     "name": "stdout",
     "output_type": "stream",
     "text": [
      "/kaggle/input/house-prices-advanced-regression-techniques/sample_submission.csv\n",
      "/kaggle/input/house-prices-advanced-regression-techniques/data_description.txt\n",
      "/kaggle/input/house-prices-advanced-regression-techniques/train.csv\n",
      "/kaggle/input/house-prices-advanced-regression-techniques/test.csv\n"
     ]
    }
   ],
   "source": [
    "# This Python 3 environment comes with many helpful analytics libraries installed\n",
    "# It is defined by the kaggle/python Docker image: https://github.com/kaggle/docker-python\n",
    "# For example, here's several helpful packages to load\n",
    "\n",
    "import numpy as np # linear algebra\n",
    "import pandas as pd # data processing, CSV file I/O (e.g. pd.read_csv)\n",
    "\n",
    "# Input data files are available in the read-only \"../input/\" directory\n",
    "# For example, running this (by clicking run or pressing Shift+Enter) will list all files under the input directory\n",
    "\n",
    "import os\n",
    "for dirname, _, filenames in os.walk('/kaggle/input'):\n",
    "    for filename in filenames:\n",
    "        print(os.path.join(dirname, filename))\n",
    "\n",
    "# You can write up to 20GB to the current directory (/kaggle/working/) that gets preserved as output when you create a version using \"Save & Run All\" \n",
    "# You can also write temporary files to /kaggle/temp/, but they won't be saved outside of the current session"
   ]
  },
  {
   "cell_type": "code",
   "execution_count": 2,
   "id": "2a96d052",
   "metadata": {
    "execution": {
     "iopub.execute_input": "2024-09-18T14:52:12.946296Z",
     "iopub.status.busy": "2024-09-18T14:52:12.945702Z",
     "iopub.status.idle": "2024-09-18T14:52:13.004907Z",
     "shell.execute_reply": "2024-09-18T14:52:13.003299Z"
    },
    "papermill": {
     "duration": 0.081714,
     "end_time": "2024-09-18T14:52:13.007800",
     "exception": false,
     "start_time": "2024-09-18T14:52:12.926086",
     "status": "completed"
    },
    "tags": []
   },
   "outputs": [],
   "source": [
    "df = pd.read_csv('/kaggle/input/house-prices-advanced-regression-techniques/train.csv', usecols = ['SalePrice', 'MSSubClass', 'MSZoning', 'LotFrontage', 'LotArea', 'Street', 'YearBuilt', 'LotShape', '1stFlrSF', '2ndFlrSF']).dropna()"
   ]
  },
  {
   "cell_type": "code",
   "execution_count": 3,
   "id": "8c82922b",
   "metadata": {
    "execution": {
     "iopub.execute_input": "2024-09-18T14:52:13.039433Z",
     "iopub.status.busy": "2024-09-18T14:52:13.038998Z",
     "iopub.status.idle": "2024-09-18T14:52:13.069251Z",
     "shell.execute_reply": "2024-09-18T14:52:13.067875Z"
    },
    "papermill": {
     "duration": 0.049693,
     "end_time": "2024-09-18T14:52:13.072301",
     "exception": false,
     "start_time": "2024-09-18T14:52:13.022608",
     "status": "completed"
    },
    "tags": []
   },
   "outputs": [
    {
     "data": {
      "text/html": [
       "<div>\n",
       "<style scoped>\n",
       "    .dataframe tbody tr th:only-of-type {\n",
       "        vertical-align: middle;\n",
       "    }\n",
       "\n",
       "    .dataframe tbody tr th {\n",
       "        vertical-align: top;\n",
       "    }\n",
       "\n",
       "    .dataframe thead th {\n",
       "        text-align: right;\n",
       "    }\n",
       "</style>\n",
       "<table border=\"1\" class=\"dataframe\">\n",
       "  <thead>\n",
       "    <tr style=\"text-align: right;\">\n",
       "      <th></th>\n",
       "      <th>MSSubClass</th>\n",
       "      <th>MSZoning</th>\n",
       "      <th>LotFrontage</th>\n",
       "      <th>LotArea</th>\n",
       "      <th>Street</th>\n",
       "      <th>LotShape</th>\n",
       "      <th>YearBuilt</th>\n",
       "      <th>1stFlrSF</th>\n",
       "      <th>2ndFlrSF</th>\n",
       "      <th>SalePrice</th>\n",
       "    </tr>\n",
       "  </thead>\n",
       "  <tbody>\n",
       "    <tr>\n",
       "      <th>0</th>\n",
       "      <td>60</td>\n",
       "      <td>RL</td>\n",
       "      <td>65.0</td>\n",
       "      <td>8450</td>\n",
       "      <td>Pave</td>\n",
       "      <td>Reg</td>\n",
       "      <td>2003</td>\n",
       "      <td>856</td>\n",
       "      <td>854</td>\n",
       "      <td>208500</td>\n",
       "    </tr>\n",
       "    <tr>\n",
       "      <th>1</th>\n",
       "      <td>20</td>\n",
       "      <td>RL</td>\n",
       "      <td>80.0</td>\n",
       "      <td>9600</td>\n",
       "      <td>Pave</td>\n",
       "      <td>Reg</td>\n",
       "      <td>1976</td>\n",
       "      <td>1262</td>\n",
       "      <td>0</td>\n",
       "      <td>181500</td>\n",
       "    </tr>\n",
       "    <tr>\n",
       "      <th>2</th>\n",
       "      <td>60</td>\n",
       "      <td>RL</td>\n",
       "      <td>68.0</td>\n",
       "      <td>11250</td>\n",
       "      <td>Pave</td>\n",
       "      <td>IR1</td>\n",
       "      <td>2001</td>\n",
       "      <td>920</td>\n",
       "      <td>866</td>\n",
       "      <td>223500</td>\n",
       "    </tr>\n",
       "    <tr>\n",
       "      <th>3</th>\n",
       "      <td>70</td>\n",
       "      <td>RL</td>\n",
       "      <td>60.0</td>\n",
       "      <td>9550</td>\n",
       "      <td>Pave</td>\n",
       "      <td>IR1</td>\n",
       "      <td>1915</td>\n",
       "      <td>961</td>\n",
       "      <td>756</td>\n",
       "      <td>140000</td>\n",
       "    </tr>\n",
       "    <tr>\n",
       "      <th>4</th>\n",
       "      <td>60</td>\n",
       "      <td>RL</td>\n",
       "      <td>84.0</td>\n",
       "      <td>14260</td>\n",
       "      <td>Pave</td>\n",
       "      <td>IR1</td>\n",
       "      <td>2000</td>\n",
       "      <td>1145</td>\n",
       "      <td>1053</td>\n",
       "      <td>250000</td>\n",
       "    </tr>\n",
       "  </tbody>\n",
       "</table>\n",
       "</div>"
      ],
      "text/plain": [
       "   MSSubClass MSZoning  LotFrontage  LotArea Street LotShape  YearBuilt  \\\n",
       "0          60       RL         65.0     8450   Pave      Reg       2003   \n",
       "1          20       RL         80.0     9600   Pave      Reg       1976   \n",
       "2          60       RL         68.0    11250   Pave      IR1       2001   \n",
       "3          70       RL         60.0     9550   Pave      IR1       1915   \n",
       "4          60       RL         84.0    14260   Pave      IR1       2000   \n",
       "\n",
       "   1stFlrSF  2ndFlrSF  SalePrice  \n",
       "0       856       854     208500  \n",
       "1      1262         0     181500  \n",
       "2       920       866     223500  \n",
       "3       961       756     140000  \n",
       "4      1145      1053     250000  "
      ]
     },
     "execution_count": 3,
     "metadata": {},
     "output_type": "execute_result"
    }
   ],
   "source": [
    "df.head()"
   ]
  },
  {
   "cell_type": "code",
   "execution_count": 4,
   "id": "55cd28ae",
   "metadata": {
    "execution": {
     "iopub.execute_input": "2024-09-18T14:52:13.106688Z",
     "iopub.status.busy": "2024-09-18T14:52:13.105452Z",
     "iopub.status.idle": "2024-09-18T14:52:13.113705Z",
     "shell.execute_reply": "2024-09-18T14:52:13.112350Z"
    },
    "papermill": {
     "duration": 0.028713,
     "end_time": "2024-09-18T14:52:13.116627",
     "exception": false,
     "start_time": "2024-09-18T14:52:13.087914",
     "status": "completed"
    },
    "tags": []
   },
   "outputs": [
    {
     "data": {
      "text/plain": [
       "(1201, 10)"
      ]
     },
     "execution_count": 4,
     "metadata": {},
     "output_type": "execute_result"
    }
   ],
   "source": [
    "df.shape"
   ]
  },
  {
   "cell_type": "code",
   "execution_count": 5,
   "id": "4dce9e39",
   "metadata": {
    "execution": {
     "iopub.execute_input": "2024-09-18T14:52:13.149642Z",
     "iopub.status.busy": "2024-09-18T14:52:13.149138Z",
     "iopub.status.idle": "2024-09-18T14:52:13.174337Z",
     "shell.execute_reply": "2024-09-18T14:52:13.172639Z"
    },
    "papermill": {
     "duration": 0.045375,
     "end_time": "2024-09-18T14:52:13.177366",
     "exception": false,
     "start_time": "2024-09-18T14:52:13.131991",
     "status": "completed"
    },
    "tags": []
   },
   "outputs": [
    {
     "name": "stdout",
     "output_type": "stream",
     "text": [
      "<class 'pandas.core.frame.DataFrame'>\n",
      "Index: 1201 entries, 0 to 1459\n",
      "Data columns (total 10 columns):\n",
      " #   Column       Non-Null Count  Dtype  \n",
      "---  ------       --------------  -----  \n",
      " 0   MSSubClass   1201 non-null   int64  \n",
      " 1   MSZoning     1201 non-null   object \n",
      " 2   LotFrontage  1201 non-null   float64\n",
      " 3   LotArea      1201 non-null   int64  \n",
      " 4   Street       1201 non-null   object \n",
      " 5   LotShape     1201 non-null   object \n",
      " 6   YearBuilt    1201 non-null   int64  \n",
      " 7   1stFlrSF     1201 non-null   int64  \n",
      " 8   2ndFlrSF     1201 non-null   int64  \n",
      " 9   SalePrice    1201 non-null   int64  \n",
      "dtypes: float64(1), int64(6), object(3)\n",
      "memory usage: 103.2+ KB\n"
     ]
    }
   ],
   "source": [
    "df.info()"
   ]
  },
  {
   "cell_type": "code",
   "execution_count": 6,
   "id": "88dd971d",
   "metadata": {
    "execution": {
     "iopub.execute_input": "2024-09-18T14:52:13.211600Z",
     "iopub.status.busy": "2024-09-18T14:52:13.210147Z",
     "iopub.status.idle": "2024-09-18T14:52:13.221121Z",
     "shell.execute_reply": "2024-09-18T14:52:13.219743Z"
    },
    "papermill": {
     "duration": 0.030864,
     "end_time": "2024-09-18T14:52:13.224053",
     "exception": false,
     "start_time": "2024-09-18T14:52:13.193189",
     "status": "completed"
    },
    "tags": []
   },
   "outputs": [
    {
     "name": "stdout",
     "output_type": "stream",
     "text": [
      "Column name MSSubClass and unique values 15\n",
      "Column name MSZoning and unique values 5\n",
      "Column name LotFrontage and unique values 110\n",
      "Column name LotArea and unique values 869\n",
      "Column name Street and unique values 2\n",
      "Column name LotShape and unique values 4\n",
      "Column name YearBuilt and unique values 112\n",
      "Column name 1stFlrSF and unique values 678\n",
      "Column name 2ndFlrSF and unique values 368\n",
      "Column name SalePrice and unique values 597\n"
     ]
    }
   ],
   "source": [
    "for i in df.columns:\n",
    "    print('Column name {} and unique values {}'.format(i, len(df[i].unique())))"
   ]
  },
  {
   "cell_type": "code",
   "execution_count": 7,
   "id": "fc0203ee",
   "metadata": {
    "execution": {
     "iopub.execute_input": "2024-09-18T14:52:13.258230Z",
     "iopub.status.busy": "2024-09-18T14:52:13.257727Z",
     "iopub.status.idle": "2024-09-18T14:52:13.265939Z",
     "shell.execute_reply": "2024-09-18T14:52:13.264605Z"
    },
    "papermill": {
     "duration": 0.029116,
     "end_time": "2024-09-18T14:52:13.268567",
     "exception": false,
     "start_time": "2024-09-18T14:52:13.239451",
     "status": "completed"
    },
    "tags": []
   },
   "outputs": [
    {
     "data": {
      "text/plain": [
       "2024"
      ]
     },
     "execution_count": 7,
     "metadata": {},
     "output_type": "execute_result"
    }
   ],
   "source": [
    "import datetime\n",
    "datetime.datetime.now().year"
   ]
  },
  {
   "cell_type": "code",
   "execution_count": 8,
   "id": "b6f03627",
   "metadata": {
    "execution": {
     "iopub.execute_input": "2024-09-18T14:52:13.302819Z",
     "iopub.status.busy": "2024-09-18T14:52:13.302146Z",
     "iopub.status.idle": "2024-09-18T14:52:13.311202Z",
     "shell.execute_reply": "2024-09-18T14:52:13.309611Z"
    },
    "papermill": {
     "duration": 0.029904,
     "end_time": "2024-09-18T14:52:13.314067",
     "exception": false,
     "start_time": "2024-09-18T14:52:13.284163",
     "status": "completed"
    },
    "tags": []
   },
   "outputs": [],
   "source": [
    "df['TotalYears'] = datetime.datetime.now().year-df['YearBuilt']"
   ]
  },
  {
   "cell_type": "code",
   "execution_count": 9,
   "id": "e8419479",
   "metadata": {
    "execution": {
     "iopub.execute_input": "2024-09-18T14:52:13.350195Z",
     "iopub.status.busy": "2024-09-18T14:52:13.349739Z",
     "iopub.status.idle": "2024-09-18T14:52:13.369853Z",
     "shell.execute_reply": "2024-09-18T14:52:13.368323Z"
    },
    "papermill": {
     "duration": 0.042193,
     "end_time": "2024-09-18T14:52:13.372848",
     "exception": false,
     "start_time": "2024-09-18T14:52:13.330655",
     "status": "completed"
    },
    "tags": []
   },
   "outputs": [
    {
     "data": {
      "text/html": [
       "<div>\n",
       "<style scoped>\n",
       "    .dataframe tbody tr th:only-of-type {\n",
       "        vertical-align: middle;\n",
       "    }\n",
       "\n",
       "    .dataframe tbody tr th {\n",
       "        vertical-align: top;\n",
       "    }\n",
       "\n",
       "    .dataframe thead th {\n",
       "        text-align: right;\n",
       "    }\n",
       "</style>\n",
       "<table border=\"1\" class=\"dataframe\">\n",
       "  <thead>\n",
       "    <tr style=\"text-align: right;\">\n",
       "      <th></th>\n",
       "      <th>MSSubClass</th>\n",
       "      <th>MSZoning</th>\n",
       "      <th>LotFrontage</th>\n",
       "      <th>LotArea</th>\n",
       "      <th>Street</th>\n",
       "      <th>LotShape</th>\n",
       "      <th>YearBuilt</th>\n",
       "      <th>1stFlrSF</th>\n",
       "      <th>2ndFlrSF</th>\n",
       "      <th>SalePrice</th>\n",
       "      <th>TotalYears</th>\n",
       "    </tr>\n",
       "  </thead>\n",
       "  <tbody>\n",
       "    <tr>\n",
       "      <th>0</th>\n",
       "      <td>60</td>\n",
       "      <td>RL</td>\n",
       "      <td>65.0</td>\n",
       "      <td>8450</td>\n",
       "      <td>Pave</td>\n",
       "      <td>Reg</td>\n",
       "      <td>2003</td>\n",
       "      <td>856</td>\n",
       "      <td>854</td>\n",
       "      <td>208500</td>\n",
       "      <td>21</td>\n",
       "    </tr>\n",
       "    <tr>\n",
       "      <th>1</th>\n",
       "      <td>20</td>\n",
       "      <td>RL</td>\n",
       "      <td>80.0</td>\n",
       "      <td>9600</td>\n",
       "      <td>Pave</td>\n",
       "      <td>Reg</td>\n",
       "      <td>1976</td>\n",
       "      <td>1262</td>\n",
       "      <td>0</td>\n",
       "      <td>181500</td>\n",
       "      <td>48</td>\n",
       "    </tr>\n",
       "    <tr>\n",
       "      <th>2</th>\n",
       "      <td>60</td>\n",
       "      <td>RL</td>\n",
       "      <td>68.0</td>\n",
       "      <td>11250</td>\n",
       "      <td>Pave</td>\n",
       "      <td>IR1</td>\n",
       "      <td>2001</td>\n",
       "      <td>920</td>\n",
       "      <td>866</td>\n",
       "      <td>223500</td>\n",
       "      <td>23</td>\n",
       "    </tr>\n",
       "    <tr>\n",
       "      <th>3</th>\n",
       "      <td>70</td>\n",
       "      <td>RL</td>\n",
       "      <td>60.0</td>\n",
       "      <td>9550</td>\n",
       "      <td>Pave</td>\n",
       "      <td>IR1</td>\n",
       "      <td>1915</td>\n",
       "      <td>961</td>\n",
       "      <td>756</td>\n",
       "      <td>140000</td>\n",
       "      <td>109</td>\n",
       "    </tr>\n",
       "    <tr>\n",
       "      <th>4</th>\n",
       "      <td>60</td>\n",
       "      <td>RL</td>\n",
       "      <td>84.0</td>\n",
       "      <td>14260</td>\n",
       "      <td>Pave</td>\n",
       "      <td>IR1</td>\n",
       "      <td>2000</td>\n",
       "      <td>1145</td>\n",
       "      <td>1053</td>\n",
       "      <td>250000</td>\n",
       "      <td>24</td>\n",
       "    </tr>\n",
       "  </tbody>\n",
       "</table>\n",
       "</div>"
      ],
      "text/plain": [
       "   MSSubClass MSZoning  LotFrontage  LotArea Street LotShape  YearBuilt  \\\n",
       "0          60       RL         65.0     8450   Pave      Reg       2003   \n",
       "1          20       RL         80.0     9600   Pave      Reg       1976   \n",
       "2          60       RL         68.0    11250   Pave      IR1       2001   \n",
       "3          70       RL         60.0     9550   Pave      IR1       1915   \n",
       "4          60       RL         84.0    14260   Pave      IR1       2000   \n",
       "\n",
       "   1stFlrSF  2ndFlrSF  SalePrice  TotalYears  \n",
       "0       856       854     208500          21  \n",
       "1      1262         0     181500          48  \n",
       "2       920       866     223500          23  \n",
       "3       961       756     140000         109  \n",
       "4      1145      1053     250000          24  "
      ]
     },
     "execution_count": 9,
     "metadata": {},
     "output_type": "execute_result"
    }
   ],
   "source": [
    "df.head()"
   ]
  },
  {
   "cell_type": "code",
   "execution_count": 10,
   "id": "590d549a",
   "metadata": {
    "execution": {
     "iopub.execute_input": "2024-09-18T14:52:13.407616Z",
     "iopub.status.busy": "2024-09-18T14:52:13.407043Z",
     "iopub.status.idle": "2024-09-18T14:52:13.417201Z",
     "shell.execute_reply": "2024-09-18T14:52:13.415766Z"
    },
    "papermill": {
     "duration": 0.031092,
     "end_time": "2024-09-18T14:52:13.420244",
     "exception": false,
     "start_time": "2024-09-18T14:52:13.389152",
     "status": "completed"
    },
    "tags": []
   },
   "outputs": [],
   "source": [
    "df.drop('YearBuilt', axis = 1, inplace = True)"
   ]
  },
  {
   "cell_type": "code",
   "execution_count": 11,
   "id": "43959dfe",
   "metadata": {
    "execution": {
     "iopub.execute_input": "2024-09-18T14:52:13.455307Z",
     "iopub.status.busy": "2024-09-18T14:52:13.454857Z",
     "iopub.status.idle": "2024-09-18T14:52:13.463126Z",
     "shell.execute_reply": "2024-09-18T14:52:13.461904Z"
    },
    "papermill": {
     "duration": 0.029056,
     "end_time": "2024-09-18T14:52:13.465847",
     "exception": false,
     "start_time": "2024-09-18T14:52:13.436791",
     "status": "completed"
    },
    "tags": []
   },
   "outputs": [
    {
     "data": {
      "text/plain": [
       "Index(['MSSubClass', 'MSZoning', 'LotFrontage', 'LotArea', 'Street',\n",
       "       'LotShape', '1stFlrSF', '2ndFlrSF', 'SalePrice', 'TotalYears'],\n",
       "      dtype='object')"
      ]
     },
     "execution_count": 11,
     "metadata": {},
     "output_type": "execute_result"
    }
   ],
   "source": [
    "df.columns"
   ]
  },
  {
   "cell_type": "code",
   "execution_count": 12,
   "id": "2c0dc6fa",
   "metadata": {
    "execution": {
     "iopub.execute_input": "2024-09-18T14:52:13.501486Z",
     "iopub.status.busy": "2024-09-18T14:52:13.500984Z",
     "iopub.status.idle": "2024-09-18T14:52:13.506872Z",
     "shell.execute_reply": "2024-09-18T14:52:13.505653Z"
    },
    "papermill": {
     "duration": 0.027771,
     "end_time": "2024-09-18T14:52:13.509752",
     "exception": false,
     "start_time": "2024-09-18T14:52:13.481981",
     "status": "completed"
    },
    "tags": []
   },
   "outputs": [],
   "source": [
    "cat_features = ['MSSubClass', 'MSZoning', 'Street', 'LotShape']\n",
    "out_feature = ['SalePrice']"
   ]
  },
  {
   "cell_type": "code",
   "execution_count": 13,
   "id": "9746f4b0",
   "metadata": {
    "execution": {
     "iopub.execute_input": "2024-09-18T14:52:13.544370Z",
     "iopub.status.busy": "2024-09-18T14:52:13.543888Z",
     "iopub.status.idle": "2024-09-18T14:52:15.041098Z",
     "shell.execute_reply": "2024-09-18T14:52:15.039960Z"
    },
    "papermill": {
     "duration": 1.517898,
     "end_time": "2024-09-18T14:52:15.044024",
     "exception": false,
     "start_time": "2024-09-18T14:52:13.526126",
     "status": "completed"
    },
    "tags": []
   },
   "outputs": [],
   "source": [
    "from sklearn.preprocessing import LabelEncoder\n",
    "lbl_encoders = {}\n",
    "for features in cat_features:\n",
    "    lbl_encoders[features] = LabelEncoder()\n",
    "    df[features] = lbl_encoders[features].fit_transform(df[features])"
   ]
  },
  {
   "cell_type": "code",
   "execution_count": 14,
   "id": "411af92a",
   "metadata": {
    "execution": {
     "iopub.execute_input": "2024-09-18T14:52:15.079712Z",
     "iopub.status.busy": "2024-09-18T14:52:15.078040Z",
     "iopub.status.idle": "2024-09-18T14:52:15.095028Z",
     "shell.execute_reply": "2024-09-18T14:52:15.093844Z"
    },
    "papermill": {
     "duration": 0.037598,
     "end_time": "2024-09-18T14:52:15.097763",
     "exception": false,
     "start_time": "2024-09-18T14:52:15.060165",
     "status": "completed"
    },
    "tags": []
   },
   "outputs": [
    {
     "data": {
      "text/html": [
       "<div>\n",
       "<style scoped>\n",
       "    .dataframe tbody tr th:only-of-type {\n",
       "        vertical-align: middle;\n",
       "    }\n",
       "\n",
       "    .dataframe tbody tr th {\n",
       "        vertical-align: top;\n",
       "    }\n",
       "\n",
       "    .dataframe thead th {\n",
       "        text-align: right;\n",
       "    }\n",
       "</style>\n",
       "<table border=\"1\" class=\"dataframe\">\n",
       "  <thead>\n",
       "    <tr style=\"text-align: right;\">\n",
       "      <th></th>\n",
       "      <th>MSSubClass</th>\n",
       "      <th>MSZoning</th>\n",
       "      <th>LotFrontage</th>\n",
       "      <th>LotArea</th>\n",
       "      <th>Street</th>\n",
       "      <th>LotShape</th>\n",
       "      <th>1stFlrSF</th>\n",
       "      <th>2ndFlrSF</th>\n",
       "      <th>SalePrice</th>\n",
       "      <th>TotalYears</th>\n",
       "    </tr>\n",
       "  </thead>\n",
       "  <tbody>\n",
       "    <tr>\n",
       "      <th>0</th>\n",
       "      <td>5</td>\n",
       "      <td>3</td>\n",
       "      <td>65.0</td>\n",
       "      <td>8450</td>\n",
       "      <td>1</td>\n",
       "      <td>3</td>\n",
       "      <td>856</td>\n",
       "      <td>854</td>\n",
       "      <td>208500</td>\n",
       "      <td>21</td>\n",
       "    </tr>\n",
       "    <tr>\n",
       "      <th>1</th>\n",
       "      <td>0</td>\n",
       "      <td>3</td>\n",
       "      <td>80.0</td>\n",
       "      <td>9600</td>\n",
       "      <td>1</td>\n",
       "      <td>3</td>\n",
       "      <td>1262</td>\n",
       "      <td>0</td>\n",
       "      <td>181500</td>\n",
       "      <td>48</td>\n",
       "    </tr>\n",
       "    <tr>\n",
       "      <th>2</th>\n",
       "      <td>5</td>\n",
       "      <td>3</td>\n",
       "      <td>68.0</td>\n",
       "      <td>11250</td>\n",
       "      <td>1</td>\n",
       "      <td>0</td>\n",
       "      <td>920</td>\n",
       "      <td>866</td>\n",
       "      <td>223500</td>\n",
       "      <td>23</td>\n",
       "    </tr>\n",
       "    <tr>\n",
       "      <th>3</th>\n",
       "      <td>6</td>\n",
       "      <td>3</td>\n",
       "      <td>60.0</td>\n",
       "      <td>9550</td>\n",
       "      <td>1</td>\n",
       "      <td>0</td>\n",
       "      <td>961</td>\n",
       "      <td>756</td>\n",
       "      <td>140000</td>\n",
       "      <td>109</td>\n",
       "    </tr>\n",
       "    <tr>\n",
       "      <th>4</th>\n",
       "      <td>5</td>\n",
       "      <td>3</td>\n",
       "      <td>84.0</td>\n",
       "      <td>14260</td>\n",
       "      <td>1</td>\n",
       "      <td>0</td>\n",
       "      <td>1145</td>\n",
       "      <td>1053</td>\n",
       "      <td>250000</td>\n",
       "      <td>24</td>\n",
       "    </tr>\n",
       "  </tbody>\n",
       "</table>\n",
       "</div>"
      ],
      "text/plain": [
       "   MSSubClass  MSZoning  LotFrontage  LotArea  Street  LotShape  1stFlrSF  \\\n",
       "0           5         3         65.0     8450       1         3       856   \n",
       "1           0         3         80.0     9600       1         3      1262   \n",
       "2           5         3         68.0    11250       1         0       920   \n",
       "3           6         3         60.0     9550       1         0       961   \n",
       "4           5         3         84.0    14260       1         0      1145   \n",
       "\n",
       "   2ndFlrSF  SalePrice  TotalYears  \n",
       "0       854     208500          21  \n",
       "1         0     181500          48  \n",
       "2       866     223500          23  \n",
       "3       756     140000         109  \n",
       "4      1053     250000          24  "
      ]
     },
     "execution_count": 14,
     "metadata": {},
     "output_type": "execute_result"
    }
   ],
   "source": [
    "df.head()"
   ]
  },
  {
   "cell_type": "code",
   "execution_count": 15,
   "id": "655feaf2",
   "metadata": {
    "execution": {
     "iopub.execute_input": "2024-09-18T14:52:15.133295Z",
     "iopub.status.busy": "2024-09-18T14:52:15.132861Z",
     "iopub.status.idle": "2024-09-18T14:52:15.142632Z",
     "shell.execute_reply": "2024-09-18T14:52:15.141503Z"
    },
    "papermill": {
     "duration": 0.030783,
     "end_time": "2024-09-18T14:52:15.145425",
     "exception": false,
     "start_time": "2024-09-18T14:52:15.114642",
     "status": "completed"
    },
    "tags": []
   },
   "outputs": [
    {
     "data": {
      "text/plain": [
       "array([[5, 3, 1, 3],\n",
       "       [0, 3, 1, 3],\n",
       "       [5, 3, 1, 0],\n",
       "       ...,\n",
       "       [6, 3, 1, 3],\n",
       "       [0, 3, 1, 3],\n",
       "       [0, 3, 1, 3]])"
      ]
     },
     "execution_count": 15,
     "metadata": {},
     "output_type": "execute_result"
    }
   ],
   "source": [
    "import numpy as np\n",
    "cat_features = np.stack([df['MSSubClass'], df['MSZoning'], df['Street'], df['LotShape']], axis = 1)\n",
    "cat_features"
   ]
  },
  {
   "cell_type": "code",
   "execution_count": 16,
   "id": "f85787e4",
   "metadata": {
    "execution": {
     "iopub.execute_input": "2024-09-18T14:52:15.180733Z",
     "iopub.status.busy": "2024-09-18T14:52:15.179733Z",
     "iopub.status.idle": "2024-09-18T14:52:18.850002Z",
     "shell.execute_reply": "2024-09-18T14:52:18.848399Z"
    },
    "papermill": {
     "duration": 3.691032,
     "end_time": "2024-09-18T14:52:18.852970",
     "exception": false,
     "start_time": "2024-09-18T14:52:15.161938",
     "status": "completed"
    },
    "tags": []
   },
   "outputs": [
    {
     "data": {
      "text/plain": [
       "tensor([[5, 3, 1, 3],\n",
       "        [0, 3, 1, 3],\n",
       "        [5, 3, 1, 0],\n",
       "        ...,\n",
       "        [6, 3, 1, 3],\n",
       "        [0, 3, 1, 3],\n",
       "        [0, 3, 1, 3]])"
      ]
     },
     "execution_count": 16,
     "metadata": {},
     "output_type": "execute_result"
    }
   ],
   "source": [
    "import torch\n",
    "cat_features = torch.tensor(cat_features, dtype = torch.int64)\n",
    "cat_features"
   ]
  },
  {
   "cell_type": "code",
   "execution_count": 17,
   "id": "55707fd3",
   "metadata": {
    "execution": {
     "iopub.execute_input": "2024-09-18T14:52:18.889028Z",
     "iopub.status.busy": "2024-09-18T14:52:18.888378Z",
     "iopub.status.idle": "2024-09-18T14:52:18.895657Z",
     "shell.execute_reply": "2024-09-18T14:52:18.894258Z"
    },
    "papermill": {
     "duration": 0.028278,
     "end_time": "2024-09-18T14:52:18.898429",
     "exception": false,
     "start_time": "2024-09-18T14:52:18.870151",
     "status": "completed"
    },
    "tags": []
   },
   "outputs": [],
   "source": [
    "cont_features = []\n",
    "for i in df.columns:\n",
    "    if i in ['MSSubClass', 'MSZoning', 'Street', 'LotShape','SalePrice']:\n",
    "        pass\n",
    "    else:\n",
    "        cont_features.append(i)"
   ]
  },
  {
   "cell_type": "code",
   "execution_count": 18,
   "id": "c76473ab",
   "metadata": {
    "execution": {
     "iopub.execute_input": "2024-09-18T14:52:18.935048Z",
     "iopub.status.busy": "2024-09-18T14:52:18.934605Z",
     "iopub.status.idle": "2024-09-18T14:52:18.942976Z",
     "shell.execute_reply": "2024-09-18T14:52:18.941625Z"
    },
    "papermill": {
     "duration": 0.030361,
     "end_time": "2024-09-18T14:52:18.946059",
     "exception": false,
     "start_time": "2024-09-18T14:52:18.915698",
     "status": "completed"
    },
    "tags": []
   },
   "outputs": [
    {
     "data": {
      "text/plain": [
       "['LotFrontage', 'LotArea', '1stFlrSF', '2ndFlrSF', 'TotalYears']"
      ]
     },
     "execution_count": 18,
     "metadata": {},
     "output_type": "execute_result"
    }
   ],
   "source": [
    "cont_features"
   ]
  },
  {
   "cell_type": "code",
   "execution_count": 19,
   "id": "a59c6490",
   "metadata": {
    "execution": {
     "iopub.execute_input": "2024-09-18T14:52:18.983415Z",
     "iopub.status.busy": "2024-09-18T14:52:18.982903Z",
     "iopub.status.idle": "2024-09-18T14:52:19.037034Z",
     "shell.execute_reply": "2024-09-18T14:52:19.035619Z"
    },
    "papermill": {
     "duration": 0.075952,
     "end_time": "2024-09-18T14:52:19.040170",
     "exception": false,
     "start_time": "2024-09-18T14:52:18.964218",
     "status": "completed"
    },
    "tags": []
   },
   "outputs": [
    {
     "data": {
      "text/plain": [
       "tensor([[   65.,  8450.,   856.,   854.,    21.],\n",
       "        [   80.,  9600.,  1262.,     0.,    48.],\n",
       "        [   68., 11250.,   920.,   866.,    23.],\n",
       "        ...,\n",
       "        [   66.,  9042.,  1188.,  1152.,    83.],\n",
       "        [   68.,  9717.,  1078.,     0.,    74.],\n",
       "        [   75.,  9937.,  1256.,     0.,    59.]])"
      ]
     },
     "execution_count": 19,
     "metadata": {},
     "output_type": "execute_result"
    }
   ],
   "source": [
    "cont_values = np.stack([df[i].values for i in cont_features], axis = 1)\n",
    "cont_values = torch.tensor(cont_values, dtype = torch.float)\n",
    "cont_values"
   ]
  },
  {
   "cell_type": "code",
   "execution_count": 20,
   "id": "730f86a7",
   "metadata": {
    "execution": {
     "iopub.execute_input": "2024-09-18T14:52:19.076068Z",
     "iopub.status.busy": "2024-09-18T14:52:19.075591Z",
     "iopub.status.idle": "2024-09-18T14:52:19.086378Z",
     "shell.execute_reply": "2024-09-18T14:52:19.085159Z"
    },
    "papermill": {
     "duration": 0.032237,
     "end_time": "2024-09-18T14:52:19.089278",
     "exception": false,
     "start_time": "2024-09-18T14:52:19.057041",
     "status": "completed"
    },
    "tags": []
   },
   "outputs": [
    {
     "data": {
      "text/plain": [
       "tensor([[208500.],\n",
       "        [181500.],\n",
       "        [223500.],\n",
       "        ...,\n",
       "        [266500.],\n",
       "        [142125.],\n",
       "        [147500.]])"
      ]
     },
     "execution_count": 20,
     "metadata": {},
     "output_type": "execute_result"
    }
   ],
   "source": [
    "y = torch.tensor(df['SalePrice'].values, dtype = torch.float).reshape(-1,1)\n",
    "y"
   ]
  },
  {
   "cell_type": "code",
   "execution_count": 21,
   "id": "75c1ef72",
   "metadata": {
    "execution": {
     "iopub.execute_input": "2024-09-18T14:52:19.126575Z",
     "iopub.status.busy": "2024-09-18T14:52:19.126058Z",
     "iopub.status.idle": "2024-09-18T14:52:19.134184Z",
     "shell.execute_reply": "2024-09-18T14:52:19.132840Z"
    },
    "papermill": {
     "duration": 0.030448,
     "end_time": "2024-09-18T14:52:19.137040",
     "exception": false,
     "start_time": "2024-09-18T14:52:19.106592",
     "status": "completed"
    },
    "tags": []
   },
   "outputs": [
    {
     "data": {
      "text/plain": [
       "(torch.Size([1201, 4]), torch.Size([1201, 5]), torch.Size([1201, 1]))"
      ]
     },
     "execution_count": 21,
     "metadata": {},
     "output_type": "execute_result"
    }
   ],
   "source": [
    "cat_features.shape,cont_values.shape, y.shape"
   ]
  },
  {
   "cell_type": "code",
   "execution_count": 22,
   "id": "af141fc8",
   "metadata": {
    "execution": {
     "iopub.execute_input": "2024-09-18T14:52:19.173388Z",
     "iopub.status.busy": "2024-09-18T14:52:19.172895Z",
     "iopub.status.idle": "2024-09-18T14:52:19.179721Z",
     "shell.execute_reply": "2024-09-18T14:52:19.178377Z"
    },
    "papermill": {
     "duration": 0.028,
     "end_time": "2024-09-18T14:52:19.182285",
     "exception": false,
     "start_time": "2024-09-18T14:52:19.154285",
     "status": "completed"
    },
    "tags": []
   },
   "outputs": [],
   "source": [
    "cat_dims = [len(df[col].unique()) for col in  ['MSSubClass', 'MSZoning', 'Street', 'LotShape']]"
   ]
  },
  {
   "cell_type": "code",
   "execution_count": 23,
   "id": "4c4d7967",
   "metadata": {
    "execution": {
     "iopub.execute_input": "2024-09-18T14:52:19.219412Z",
     "iopub.status.busy": "2024-09-18T14:52:19.218548Z",
     "iopub.status.idle": "2024-09-18T14:52:19.226442Z",
     "shell.execute_reply": "2024-09-18T14:52:19.225124Z"
    },
    "papermill": {
     "duration": 0.029619,
     "end_time": "2024-09-18T14:52:19.229200",
     "exception": false,
     "start_time": "2024-09-18T14:52:19.199581",
     "status": "completed"
    },
    "tags": []
   },
   "outputs": [
    {
     "data": {
      "text/plain": [
       "[15, 5, 2, 4]"
      ]
     },
     "execution_count": 23,
     "metadata": {},
     "output_type": "execute_result"
    }
   ],
   "source": [
    "cat_dims"
   ]
  },
  {
   "cell_type": "code",
   "execution_count": 24,
   "id": "c529cc5a",
   "metadata": {
    "execution": {
     "iopub.execute_input": "2024-09-18T14:52:19.267497Z",
     "iopub.status.busy": "2024-09-18T14:52:19.266986Z",
     "iopub.status.idle": "2024-09-18T14:52:19.273637Z",
     "shell.execute_reply": "2024-09-18T14:52:19.272177Z"
    },
    "papermill": {
     "duration": 0.028271,
     "end_time": "2024-09-18T14:52:19.276242",
     "exception": false,
     "start_time": "2024-09-18T14:52:19.247971",
     "status": "completed"
    },
    "tags": []
   },
   "outputs": [],
   "source": [
    "embedding_dim = [(x, min(50, (x+1) // 2)) for x in cat_dims]"
   ]
  },
  {
   "cell_type": "code",
   "execution_count": 25,
   "id": "2bf1ac3a",
   "metadata": {
    "execution": {
     "iopub.execute_input": "2024-09-18T14:52:19.313384Z",
     "iopub.status.busy": "2024-09-18T14:52:19.312910Z",
     "iopub.status.idle": "2024-09-18T14:52:19.321216Z",
     "shell.execute_reply": "2024-09-18T14:52:19.320061Z"
    },
    "papermill": {
     "duration": 0.03018,
     "end_time": "2024-09-18T14:52:19.324044",
     "exception": false,
     "start_time": "2024-09-18T14:52:19.293864",
     "status": "completed"
    },
    "tags": []
   },
   "outputs": [
    {
     "data": {
      "text/plain": [
       "[(15, 8), (5, 3), (2, 1), (4, 2)]"
      ]
     },
     "execution_count": 25,
     "metadata": {},
     "output_type": "execute_result"
    }
   ],
   "source": [
    "embedding_dim"
   ]
  },
  {
   "cell_type": "code",
   "execution_count": 26,
   "id": "9e7cf872",
   "metadata": {
    "execution": {
     "iopub.execute_input": "2024-09-18T14:52:19.362708Z",
     "iopub.status.busy": "2024-09-18T14:52:19.362197Z",
     "iopub.status.idle": "2024-09-18T14:52:19.377809Z",
     "shell.execute_reply": "2024-09-18T14:52:19.376375Z"
    },
    "papermill": {
     "duration": 0.03874,
     "end_time": "2024-09-18T14:52:19.381093",
     "exception": false,
     "start_time": "2024-09-18T14:52:19.342353",
     "status": "completed"
    },
    "tags": []
   },
   "outputs": [
    {
     "data": {
      "text/plain": [
       "ModuleList(\n",
       "  (0): Embedding(15, 8)\n",
       "  (1): Embedding(5, 3)\n",
       "  (2): Embedding(2, 1)\n",
       "  (3): Embedding(4, 2)\n",
       ")"
      ]
     },
     "execution_count": 26,
     "metadata": {},
     "output_type": "execute_result"
    }
   ],
   "source": [
    "import torch.nn as nn\n",
    "import torch.nn.functional as F\n",
    "embed_representation = nn.ModuleList([nn.Embedding(inp, out) for inp,out in embedding_dim])\n",
    "embed_representation"
   ]
  },
  {
   "cell_type": "code",
   "execution_count": 27,
   "id": "f0b0c04c",
   "metadata": {
    "execution": {
     "iopub.execute_input": "2024-09-18T14:52:19.421017Z",
     "iopub.status.busy": "2024-09-18T14:52:19.419814Z",
     "iopub.status.idle": "2024-09-18T14:52:19.452608Z",
     "shell.execute_reply": "2024-09-18T14:52:19.451306Z"
    },
    "papermill": {
     "duration": 0.05554,
     "end_time": "2024-09-18T14:52:19.455502",
     "exception": false,
     "start_time": "2024-09-18T14:52:19.399962",
     "status": "completed"
    },
    "tags": []
   },
   "outputs": [
    {
     "data": {
      "text/plain": [
       "[tensor([[ 0.4228, -1.0103,  0.2398,  ..., -0.2813, -0.9145,  0.0682],\n",
       "         [-0.4017, -2.2269, -1.1819,  ..., -0.3470, -1.4327,  0.1552],\n",
       "         [ 0.4228, -1.0103,  0.2398,  ..., -0.2813, -0.9145,  0.0682],\n",
       "         ...,\n",
       "         [ 0.0475, -0.2309, -0.7922,  ...,  0.3157, -0.3510, -0.7781],\n",
       "         [-0.4017, -2.2269, -1.1819,  ..., -0.3470, -1.4327,  0.1552],\n",
       "         [-0.4017, -2.2269, -1.1819,  ..., -0.3470, -1.4327,  0.1552]],\n",
       "        grad_fn=<EmbeddingBackward0>),\n",
       " tensor([[-0.0342, -1.1404,  0.0531],\n",
       "         [-0.0342, -1.1404,  0.0531],\n",
       "         [-0.0342, -1.1404,  0.0531],\n",
       "         ...,\n",
       "         [-0.0342, -1.1404,  0.0531],\n",
       "         [-0.0342, -1.1404,  0.0531],\n",
       "         [-0.0342, -1.1404,  0.0531]], grad_fn=<EmbeddingBackward0>),\n",
       " tensor([[1.3875],\n",
       "         [1.3875],\n",
       "         [1.3875],\n",
       "         ...,\n",
       "         [1.3875],\n",
       "         [1.3875],\n",
       "         [1.3875]], grad_fn=<EmbeddingBackward0>),\n",
       " tensor([[-0.7738, -2.0394],\n",
       "         [-0.7738, -2.0394],\n",
       "         [-0.5287, -0.7916],\n",
       "         ...,\n",
       "         [-0.7738, -2.0394],\n",
       "         [-0.7738, -2.0394],\n",
       "         [-0.7738, -2.0394]], grad_fn=<EmbeddingBackward0>)]"
      ]
     },
     "execution_count": 27,
     "metadata": {},
     "output_type": "execute_result"
    }
   ],
   "source": [
    "embedding_val = []\n",
    "for i, e in enumerate(embed_representation):\n",
    "    embedding_val.append(e(cat_features[:,i]))\n",
    "    \n",
    "embedding_val"
   ]
  },
  {
   "cell_type": "code",
   "execution_count": 28,
   "id": "23c7b87b",
   "metadata": {
    "execution": {
     "iopub.execute_input": "2024-09-18T14:52:19.495432Z",
     "iopub.status.busy": "2024-09-18T14:52:19.494071Z",
     "iopub.status.idle": "2024-09-18T14:52:19.500596Z",
     "shell.execute_reply": "2024-09-18T14:52:19.499309Z"
    },
    "papermill": {
     "duration": 0.028821,
     "end_time": "2024-09-18T14:52:19.503244",
     "exception": false,
     "start_time": "2024-09-18T14:52:19.474423",
     "status": "completed"
    },
    "tags": []
   },
   "outputs": [],
   "source": [
    "z = torch.cat(embedding_val, axis = 1)"
   ]
  },
  {
   "cell_type": "code",
   "execution_count": 29,
   "id": "b335388e",
   "metadata": {
    "execution": {
     "iopub.execute_input": "2024-09-18T14:52:19.541957Z",
     "iopub.status.busy": "2024-09-18T14:52:19.540890Z",
     "iopub.status.idle": "2024-09-18T14:52:19.550938Z",
     "shell.execute_reply": "2024-09-18T14:52:19.549626Z"
    },
    "papermill": {
     "duration": 0.03255,
     "end_time": "2024-09-18T14:52:19.553616",
     "exception": false,
     "start_time": "2024-09-18T14:52:19.521066",
     "status": "completed"
    },
    "tags": []
   },
   "outputs": [
    {
     "data": {
      "text/plain": [
       "tensor([[ 0.4228, -1.0103,  0.2398,  ...,  1.3875, -0.7738, -2.0394],\n",
       "        [-0.4017, -2.2269, -1.1819,  ...,  1.3875, -0.7738, -2.0394],\n",
       "        [ 0.4228, -1.0103,  0.2398,  ...,  1.3875, -0.5287, -0.7916],\n",
       "        ...,\n",
       "        [ 0.0475, -0.2309, -0.7922,  ...,  1.3875, -0.7738, -2.0394],\n",
       "        [-0.4017, -2.2269, -1.1819,  ...,  1.3875, -0.7738, -2.0394],\n",
       "        [-0.4017, -2.2269, -1.1819,  ...,  1.3875, -0.7738, -2.0394]],\n",
       "       grad_fn=<CatBackward0>)"
      ]
     },
     "execution_count": 29,
     "metadata": {},
     "output_type": "execute_result"
    }
   ],
   "source": [
    "z"
   ]
  },
  {
   "cell_type": "code",
   "execution_count": 30,
   "id": "c29b9e12",
   "metadata": {
    "execution": {
     "iopub.execute_input": "2024-09-18T14:52:19.592067Z",
     "iopub.status.busy": "2024-09-18T14:52:19.591607Z",
     "iopub.status.idle": "2024-09-18T14:52:19.597679Z",
     "shell.execute_reply": "2024-09-18T14:52:19.596304Z"
    },
    "papermill": {
     "duration": 0.028436,
     "end_time": "2024-09-18T14:52:19.600346",
     "exception": false,
     "start_time": "2024-09-18T14:52:19.571910",
     "status": "completed"
    },
    "tags": []
   },
   "outputs": [],
   "source": [
    "dropout = nn.Dropout(.4)"
   ]
  },
  {
   "cell_type": "code",
   "execution_count": 31,
   "id": "7d711db0",
   "metadata": {
    "execution": {
     "iopub.execute_input": "2024-09-18T14:52:19.639502Z",
     "iopub.status.busy": "2024-09-18T14:52:19.639034Z",
     "iopub.status.idle": "2024-09-18T14:52:19.653441Z",
     "shell.execute_reply": "2024-09-18T14:52:19.652012Z"
    },
    "papermill": {
     "duration": 0.037482,
     "end_time": "2024-09-18T14:52:19.656399",
     "exception": false,
     "start_time": "2024-09-18T14:52:19.618917",
     "status": "completed"
    },
    "tags": []
   },
   "outputs": [],
   "source": [
    "import torch\n",
    "import torch.nn as nn\n",
    "import torch.nn.functional as F\n",
    "\n",
    "class FeedForwardNN(nn.Module):\n",
    "    def __init__(self, embedding_dim, n_cont, out_sz, layers, p = 0.5):\n",
    "        super().__init__()\n",
    "        self.embeds = nn.ModuleList([nn.Embedding(inp, out) for inp, out in embedding_dim])\n",
    "        self.emb_drop = nn.Dropout(p)\n",
    "        self.bn_cont = nn.BatchNorm1d(n_cont)\n",
    "        \n",
    "        layerlist = []\n",
    "        n_emb = sum(out for inp, out in embedding_dim)\n",
    "        n_in = n_emb + n_cont\n",
    "        for i in layers:\n",
    "            layerlist.append(nn.Linear(n_in, i))\n",
    "            layerlist.append(nn.ReLU(inplace = True))\n",
    "            layerlist.append(nn.BatchNorm1d(i))\n",
    "            layerlist.append(nn.Dropout(p))\n",
    "            n_in = i\n",
    "        \n",
    "        layerlist.append(nn.Linear(layers[-1], out_sz))\n",
    "        self.layers = nn.Sequential(*layerlist)\n",
    "        \n",
    "    def forward(self, x_cat, x_cont):\n",
    "        embeddings = []\n",
    "        for i, e in enumerate(self.embeds):\n",
    "            embeddings.append(e(x_cat[:,i]))\n",
    "        \n",
    "        x = torch.cat(embeddings, axis = 1)\n",
    "        x = self.emb_drop(x)\n",
    "        \n",
    "        x_cont = self.bn_cont(x_cont)\n",
    "        x = torch.cat([x, x_cont], axis = 1)\n",
    "        x = self.layers(x)\n",
    "        return x"
   ]
  },
  {
   "cell_type": "code",
   "execution_count": 32,
   "id": "658eb43a",
   "metadata": {
    "execution": {
     "iopub.execute_input": "2024-09-18T14:52:19.695465Z",
     "iopub.status.busy": "2024-09-18T14:52:19.694988Z",
     "iopub.status.idle": "2024-09-18T14:52:19.714491Z",
     "shell.execute_reply": "2024-09-18T14:52:19.713332Z"
    },
    "papermill": {
     "duration": 0.04258,
     "end_time": "2024-09-18T14:52:19.717616",
     "exception": false,
     "start_time": "2024-09-18T14:52:19.675036",
     "status": "completed"
    },
    "tags": []
   },
   "outputs": [],
   "source": [
    "torch.manual_seed(100)\n",
    "model = FeedForwardNN(embedding_dim, len(cont_features), 1, [100,50], p = 0.4)"
   ]
  },
  {
   "cell_type": "code",
   "execution_count": 33,
   "id": "be9ee61f",
   "metadata": {
    "execution": {
     "iopub.execute_input": "2024-09-18T14:52:19.756358Z",
     "iopub.status.busy": "2024-09-18T14:52:19.755901Z",
     "iopub.status.idle": "2024-09-18T14:52:19.763909Z",
     "shell.execute_reply": "2024-09-18T14:52:19.762768Z"
    },
    "papermill": {
     "duration": 0.030289,
     "end_time": "2024-09-18T14:52:19.766552",
     "exception": false,
     "start_time": "2024-09-18T14:52:19.736263",
     "status": "completed"
    },
    "tags": []
   },
   "outputs": [
    {
     "data": {
      "text/plain": [
       "FeedForwardNN(\n",
       "  (embeds): ModuleList(\n",
       "    (0): Embedding(15, 8)\n",
       "    (1): Embedding(5, 3)\n",
       "    (2): Embedding(2, 1)\n",
       "    (3): Embedding(4, 2)\n",
       "  )\n",
       "  (emb_drop): Dropout(p=0.4, inplace=False)\n",
       "  (bn_cont): BatchNorm1d(5, eps=1e-05, momentum=0.1, affine=True, track_running_stats=True)\n",
       "  (layers): Sequential(\n",
       "    (0): Linear(in_features=19, out_features=100, bias=True)\n",
       "    (1): ReLU(inplace=True)\n",
       "    (2): BatchNorm1d(100, eps=1e-05, momentum=0.1, affine=True, track_running_stats=True)\n",
       "    (3): Dropout(p=0.4, inplace=False)\n",
       "    (4): Linear(in_features=100, out_features=50, bias=True)\n",
       "    (5): ReLU(inplace=True)\n",
       "    (6): BatchNorm1d(50, eps=1e-05, momentum=0.1, affine=True, track_running_stats=True)\n",
       "    (7): Dropout(p=0.4, inplace=False)\n",
       "    (8): Linear(in_features=50, out_features=1, bias=True)\n",
       "  )\n",
       ")"
      ]
     },
     "execution_count": 33,
     "metadata": {},
     "output_type": "execute_result"
    }
   ],
   "source": [
    "model"
   ]
  },
  {
   "cell_type": "code",
   "execution_count": 34,
   "id": "dade5424",
   "metadata": {
    "execution": {
     "iopub.execute_input": "2024-09-18T14:52:19.806474Z",
     "iopub.status.busy": "2024-09-18T14:52:19.806013Z",
     "iopub.status.idle": "2024-09-18T14:52:21.660328Z",
     "shell.execute_reply": "2024-09-18T14:52:21.658922Z"
    },
    "papermill": {
     "duration": 1.877041,
     "end_time": "2024-09-18T14:52:21.663259",
     "exception": false,
     "start_time": "2024-09-18T14:52:19.786218",
     "status": "completed"
    },
    "tags": []
   },
   "outputs": [],
   "source": [
    "loss_func = nn.MSELoss()\n",
    "optimizer = torch.optim.Adam(model.parameters(), lr = 0.01)"
   ]
  },
  {
   "cell_type": "code",
   "execution_count": 35,
   "id": "ecfeb551",
   "metadata": {
    "execution": {
     "iopub.execute_input": "2024-09-18T14:52:21.702421Z",
     "iopub.status.busy": "2024-09-18T14:52:21.701110Z",
     "iopub.status.idle": "2024-09-18T14:52:21.709281Z",
     "shell.execute_reply": "2024-09-18T14:52:21.708061Z"
    },
    "papermill": {
     "duration": 0.030332,
     "end_time": "2024-09-18T14:52:21.711794",
     "exception": false,
     "start_time": "2024-09-18T14:52:21.681462",
     "status": "completed"
    },
    "tags": []
   },
   "outputs": [
    {
     "data": {
      "text/plain": [
       "(1201, 10)"
      ]
     },
     "execution_count": 35,
     "metadata": {},
     "output_type": "execute_result"
    }
   ],
   "source": [
    "df.shape"
   ]
  },
  {
   "cell_type": "code",
   "execution_count": 36,
   "id": "b9852412",
   "metadata": {
    "execution": {
     "iopub.execute_input": "2024-09-18T14:52:21.811181Z",
     "iopub.status.busy": "2024-09-18T14:52:21.810262Z",
     "iopub.status.idle": "2024-09-18T14:52:21.819764Z",
     "shell.execute_reply": "2024-09-18T14:52:21.818616Z"
    },
    "papermill": {
     "duration": 0.092352,
     "end_time": "2024-09-18T14:52:21.822413",
     "exception": false,
     "start_time": "2024-09-18T14:52:21.730061",
     "status": "completed"
    },
    "tags": []
   },
   "outputs": [
    {
     "data": {
      "text/plain": [
       "tensor([[   65.,  8450.,   856.,   854.,    21.],\n",
       "        [   80.,  9600.,  1262.,     0.,    48.],\n",
       "        [   68., 11250.,   920.,   866.,    23.],\n",
       "        ...,\n",
       "        [   66.,  9042.,  1188.,  1152.,    83.],\n",
       "        [   68.,  9717.,  1078.,     0.,    74.],\n",
       "        [   75.,  9937.,  1256.,     0.,    59.]])"
      ]
     },
     "execution_count": 36,
     "metadata": {},
     "output_type": "execute_result"
    }
   ],
   "source": [
    "cont_values"
   ]
  },
  {
   "cell_type": "code",
   "execution_count": 37,
   "id": "22e5829c",
   "metadata": {
    "execution": {
     "iopub.execute_input": "2024-09-18T14:52:21.866396Z",
     "iopub.status.busy": "2024-09-18T14:52:21.865474Z",
     "iopub.status.idle": "2024-09-18T14:52:21.874759Z",
     "shell.execute_reply": "2024-09-18T14:52:21.873358Z"
    },
    "papermill": {
     "duration": 0.034565,
     "end_time": "2024-09-18T14:52:21.877757",
     "exception": false,
     "start_time": "2024-09-18T14:52:21.843192",
     "status": "completed"
    },
    "tags": []
   },
   "outputs": [
    {
     "data": {
      "text/plain": [
       "torch.Size([1201, 5])"
      ]
     },
     "execution_count": 37,
     "metadata": {},
     "output_type": "execute_result"
    }
   ],
   "source": [
    "cont_values.shape"
   ]
  },
  {
   "cell_type": "code",
   "execution_count": 38,
   "id": "f111f9bc",
   "metadata": {
    "execution": {
     "iopub.execute_input": "2024-09-18T14:52:21.917561Z",
     "iopub.status.busy": "2024-09-18T14:52:21.917090Z",
     "iopub.status.idle": "2024-09-18T14:52:21.924994Z",
     "shell.execute_reply": "2024-09-18T14:52:21.923617Z"
    },
    "papermill": {
     "duration": 0.030973,
     "end_time": "2024-09-18T14:52:21.927965",
     "exception": false,
     "start_time": "2024-09-18T14:52:21.896992",
     "status": "completed"
    },
    "tags": []
   },
   "outputs": [],
   "source": [
    "batch_size = 1200\n",
    "test_size = int(batch_size*0.15)\n",
    "train_categorical = cat_features[:batch_size - test_size]\n",
    "test_categorical = cat_features[batch_size - test_size : batch_size]\n",
    "train_cont = cont_values[:batch_size - test_size]\n",
    "test_cont = cont_values[batch_size - test_size : batch_size]\n",
    "y_train = y[ : batch_size - test_size]\n",
    "y_test = y[batch_size - test_size : batch_size]"
   ]
  },
  {
   "cell_type": "code",
   "execution_count": 39,
   "id": "8b18c78e",
   "metadata": {
    "execution": {
     "iopub.execute_input": "2024-09-18T14:52:21.967276Z",
     "iopub.status.busy": "2024-09-18T14:52:21.966847Z",
     "iopub.status.idle": "2024-09-18T14:52:21.976044Z",
     "shell.execute_reply": "2024-09-18T14:52:21.974600Z"
    },
    "papermill": {
     "duration": 0.031853,
     "end_time": "2024-09-18T14:52:21.978671",
     "exception": false,
     "start_time": "2024-09-18T14:52:21.946818",
     "status": "completed"
    },
    "tags": []
   },
   "outputs": [
    {
     "data": {
      "text/plain": [
       "(1020, 180, 1020, 180, 1020, 180)"
      ]
     },
     "execution_count": 39,
     "metadata": {},
     "output_type": "execute_result"
    }
   ],
   "source": [
    "len(train_categorical), len(test_categorical), len(train_cont), len(test_cont), len(y_train), len(y_test)"
   ]
  },
  {
   "cell_type": "code",
   "execution_count": 40,
   "id": "e9d628ff",
   "metadata": {
    "execution": {
     "iopub.execute_input": "2024-09-18T14:52:22.018359Z",
     "iopub.status.busy": "2024-09-18T14:52:22.017890Z",
     "iopub.status.idle": "2024-09-18T14:53:01.889957Z",
     "shell.execute_reply": "2024-09-18T14:53:01.888443Z"
    },
    "papermill": {
     "duration": 39.895482,
     "end_time": "2024-09-18T14:53:01.892874",
     "exception": false,
     "start_time": "2024-09-18T14:52:21.997392",
     "status": "completed"
    },
    "tags": []
   },
   "outputs": [
    {
     "name": "stdout",
     "output_type": "stream",
     "text": [
      "Epoch : 1 and RMSE : 200496.75\n",
      "Epoch : 11 and RMSE : 200493.46875\n",
      "Epoch : 21 and RMSE : 200489.140625\n",
      "Epoch : 31 and RMSE : 200482.640625\n",
      "Epoch : 41 and RMSE : 200473.25\n",
      "Epoch : 51 and RMSE : 200461.375\n",
      "Epoch : 61 and RMSE : 200446.421875\n",
      "Epoch : 71 and RMSE : 200429.375\n",
      "Epoch : 81 and RMSE : 200407.96875\n",
      "Epoch : 91 and RMSE : 200383.453125\n",
      "Epoch : 101 and RMSE : 200355.3125\n",
      "Epoch : 111 and RMSE : 200322.390625\n",
      "Epoch : 121 and RMSE : 200291.40625\n",
      "Epoch : 131 and RMSE : 200252.265625\n",
      "Epoch : 141 and RMSE : 200206.71875\n",
      "Epoch : 151 and RMSE : 200162.796875\n",
      "Epoch : 161 and RMSE : 200112.1875\n",
      "Epoch : 171 and RMSE : 200059.234375\n",
      "Epoch : 181 and RMSE : 200006.015625\n",
      "Epoch : 191 and RMSE : 199947.171875\n",
      "Epoch : 201 and RMSE : 199881.953125\n",
      "Epoch : 211 and RMSE : 199815.40625\n",
      "Epoch : 221 and RMSE : 199737.90625\n",
      "Epoch : 231 and RMSE : 199672.34375\n",
      "Epoch : 241 and RMSE : 199589.09375\n",
      "Epoch : 251 and RMSE : 199511.046875\n",
      "Epoch : 261 and RMSE : 199411.53125\n",
      "Epoch : 271 and RMSE : 199326.03125\n",
      "Epoch : 281 and RMSE : 199245.53125\n",
      "Epoch : 291 and RMSE : 199141.09375\n",
      "Epoch : 301 and RMSE : 199030.140625\n",
      "Epoch : 311 and RMSE : 198932.546875\n",
      "Epoch : 321 and RMSE : 198854.390625\n",
      "Epoch : 331 and RMSE : 198696.484375\n",
      "Epoch : 341 and RMSE : 198599.390625\n",
      "Epoch : 351 and RMSE : 198493.734375\n",
      "Epoch : 361 and RMSE : 198387.390625\n",
      "Epoch : 371 and RMSE : 198244.46875\n",
      "Epoch : 381 and RMSE : 198103.25\n",
      "Epoch : 391 and RMSE : 198013.234375\n",
      "Epoch : 401 and RMSE : 197878.0625\n",
      "Epoch : 411 and RMSE : 197727.828125\n",
      "Epoch : 421 and RMSE : 197595.53125\n",
      "Epoch : 431 and RMSE : 197419.90625\n",
      "Epoch : 441 and RMSE : 197280.96875\n",
      "Epoch : 451 and RMSE : 197170.0625\n",
      "Epoch : 461 and RMSE : 196955.71875\n",
      "Epoch : 471 and RMSE : 196881.625\n",
      "Epoch : 481 and RMSE : 196701.203125\n",
      "Epoch : 491 and RMSE : 196501.203125\n",
      "Epoch : 501 and RMSE : 196437.9375\n",
      "Epoch : 511 and RMSE : 196203.078125\n",
      "Epoch : 521 and RMSE : 196044.265625\n",
      "Epoch : 531 and RMSE : 195847.28125\n",
      "Epoch : 541 and RMSE : 195659.59375\n",
      "Epoch : 551 and RMSE : 195460.09375\n",
      "Epoch : 561 and RMSE : 195287.59375\n",
      "Epoch : 571 and RMSE : 195068.84375\n",
      "Epoch : 581 and RMSE : 194844.828125\n",
      "Epoch : 591 and RMSE : 194686.875\n",
      "Epoch : 601 and RMSE : 194524.078125\n",
      "Epoch : 611 and RMSE : 194273.359375\n",
      "Epoch : 621 and RMSE : 194104.921875\n",
      "Epoch : 631 and RMSE : 193820.703125\n",
      "Epoch : 641 and RMSE : 193680.34375\n",
      "Epoch : 651 and RMSE : 193476.640625\n",
      "Epoch : 661 and RMSE : 193216.5\n",
      "Epoch : 671 and RMSE : 193059.375\n",
      "Epoch : 681 and RMSE : 192766.984375\n",
      "Epoch : 691 and RMSE : 192494.71875\n",
      "Epoch : 701 and RMSE : 192295.734375\n",
      "Epoch : 711 and RMSE : 192206.796875\n",
      "Epoch : 721 and RMSE : 191966.875\n",
      "Epoch : 731 and RMSE : 191625.25\n",
      "Epoch : 741 and RMSE : 191418.921875\n",
      "Epoch : 751 and RMSE : 191181.4375\n",
      "Epoch : 761 and RMSE : 190968.578125\n",
      "Epoch : 771 and RMSE : 190714.140625\n",
      "Epoch : 781 and RMSE : 190466.609375\n",
      "Epoch : 791 and RMSE : 190286.1875\n",
      "Epoch : 801 and RMSE : 189869.90625\n",
      "Epoch : 811 and RMSE : 189727.234375\n",
      "Epoch : 821 and RMSE : 189649.171875\n",
      "Epoch : 831 and RMSE : 189280.4375\n",
      "Epoch : 841 and RMSE : 188941.609375\n",
      "Epoch : 851 and RMSE : 188832.59375\n",
      "Epoch : 861 and RMSE : 188402.9375\n",
      "Epoch : 871 and RMSE : 188176.84375\n",
      "Epoch : 881 and RMSE : 187893.8125\n",
      "Epoch : 891 and RMSE : 187460.484375\n",
      "Epoch : 901 and RMSE : 187448.796875\n",
      "Epoch : 911 and RMSE : 187225.03125\n",
      "Epoch : 921 and RMSE : 186799.515625\n",
      "Epoch : 931 and RMSE : 186385.6875\n",
      "Epoch : 941 and RMSE : 186128.34375\n",
      "Epoch : 951 and RMSE : 185949.546875\n",
      "Epoch : 961 and RMSE : 185534.59375\n",
      "Epoch : 971 and RMSE : 185292.40625\n",
      "Epoch : 981 and RMSE : 185085.671875\n",
      "Epoch : 991 and RMSE : 184799.671875\n",
      "Epoch : 1001 and RMSE : 184302.859375\n",
      "Epoch : 1011 and RMSE : 183999.578125\n",
      "Epoch : 1021 and RMSE : 183787.296875\n",
      "Epoch : 1031 and RMSE : 183387.03125\n",
      "Epoch : 1041 and RMSE : 183218.828125\n",
      "Epoch : 1051 and RMSE : 182897.140625\n",
      "Epoch : 1061 and RMSE : 182554.75\n",
      "Epoch : 1071 and RMSE : 182298.140625\n",
      "Epoch : 1081 and RMSE : 181892.453125\n",
      "Epoch : 1091 and RMSE : 181477.125\n",
      "Epoch : 1101 and RMSE : 181315.859375\n",
      "Epoch : 1111 and RMSE : 180768.984375\n",
      "Epoch : 1121 and RMSE : 180476.546875\n",
      "Epoch : 1131 and RMSE : 180423.390625\n",
      "Epoch : 1141 and RMSE : 179935.28125\n",
      "Epoch : 1151 and RMSE : 179532.140625\n",
      "Epoch : 1161 and RMSE : 179367.703125\n",
      "Epoch : 1171 and RMSE : 178948.625\n",
      "Epoch : 1181 and RMSE : 178535.84375\n",
      "Epoch : 1191 and RMSE : 178217.828125\n",
      "Epoch : 1201 and RMSE : 178103.765625\n",
      "Epoch : 1211 and RMSE : 177449.625\n",
      "Epoch : 1221 and RMSE : 177483.109375\n",
      "Epoch : 1231 and RMSE : 176593.78125\n",
      "Epoch : 1241 and RMSE : 176341.78125\n",
      "Epoch : 1251 and RMSE : 175533.71875\n",
      "Epoch : 1261 and RMSE : 175781.328125\n",
      "Epoch : 1271 and RMSE : 175247.65625\n",
      "Epoch : 1281 and RMSE : 174915.78125\n",
      "Epoch : 1291 and RMSE : 174496.21875\n",
      "Epoch : 1301 and RMSE : 174225.390625\n",
      "Epoch : 1311 and RMSE : 173714.90625\n",
      "Epoch : 1321 and RMSE : 173111.921875\n",
      "Epoch : 1331 and RMSE : 173406.234375\n",
      "Epoch : 1341 and RMSE : 172714.375\n",
      "Epoch : 1351 and RMSE : 172229.25\n",
      "Epoch : 1361 and RMSE : 172045.453125\n",
      "Epoch : 1371 and RMSE : 171832.875\n",
      "Epoch : 1381 and RMSE : 171283.609375\n",
      "Epoch : 1391 and RMSE : 170409.734375\n",
      "Epoch : 1401 and RMSE : 170501.421875\n",
      "Epoch : 1411 and RMSE : 169660.796875\n",
      "Epoch : 1421 and RMSE : 169881.5625\n",
      "Epoch : 1431 and RMSE : 169460.875\n",
      "Epoch : 1441 and RMSE : 168715.796875\n",
      "Epoch : 1451 and RMSE : 168641.671875\n",
      "Epoch : 1461 and RMSE : 167951.28125\n",
      "Epoch : 1471 and RMSE : 167573.875\n",
      "Epoch : 1481 and RMSE : 167339.171875\n",
      "Epoch : 1491 and RMSE : 166569.359375\n",
      "Epoch : 1501 and RMSE : 166307.15625\n",
      "Epoch : 1511 and RMSE : 165582.8125\n",
      "Epoch : 1521 and RMSE : 165810.90625\n",
      "Epoch : 1531 and RMSE : 165301.296875\n",
      "Epoch : 1541 and RMSE : 164576.953125\n",
      "Epoch : 1551 and RMSE : 164524.5625\n",
      "Epoch : 1561 and RMSE : 163721.65625\n",
      "Epoch : 1571 and RMSE : 163451.125\n",
      "Epoch : 1581 and RMSE : 163119.296875\n",
      "Epoch : 1591 and RMSE : 163006.890625\n",
      "Epoch : 1601 and RMSE : 162410.765625\n",
      "Epoch : 1611 and RMSE : 161704.109375\n",
      "Epoch : 1621 and RMSE : 160952.46875\n",
      "Epoch : 1631 and RMSE : 160996.828125\n",
      "Epoch : 1641 and RMSE : 160728.734375\n",
      "Epoch : 1651 and RMSE : 160243.0625\n",
      "Epoch : 1661 and RMSE : 160229.171875\n",
      "Epoch : 1671 and RMSE : 159219.15625\n",
      "Epoch : 1681 and RMSE : 158473.703125\n",
      "Epoch : 1691 and RMSE : 158303.625\n",
      "Epoch : 1701 and RMSE : 157549.046875\n",
      "Epoch : 1711 and RMSE : 157342.171875\n",
      "Epoch : 1721 and RMSE : 157141.625\n",
      "Epoch : 1731 and RMSE : 156668.625\n",
      "Epoch : 1741 and RMSE : 156309.59375\n",
      "Epoch : 1751 and RMSE : 156191.5625\n",
      "Epoch : 1761 and RMSE : 154744.890625\n",
      "Epoch : 1771 and RMSE : 154559.46875\n",
      "Epoch : 1781 and RMSE : 154069.5625\n",
      "Epoch : 1791 and RMSE : 153775.0\n",
      "Epoch : 1801 and RMSE : 153111.15625\n",
      "Epoch : 1811 and RMSE : 152892.8125\n",
      "Epoch : 1821 and RMSE : 152263.453125\n",
      "Epoch : 1831 and RMSE : 152410.953125\n",
      "Epoch : 1841 and RMSE : 151660.84375\n",
      "Epoch : 1851 and RMSE : 150700.78125\n",
      "Epoch : 1861 and RMSE : 150756.265625\n",
      "Epoch : 1871 and RMSE : 150054.015625\n",
      "Epoch : 1881 and RMSE : 149342.0625\n",
      "Epoch : 1891 and RMSE : 148469.828125\n",
      "Epoch : 1901 and RMSE : 148625.140625\n",
      "Epoch : 1911 and RMSE : 148895.390625\n",
      "Epoch : 1921 and RMSE : 147755.90625\n",
      "Epoch : 1931 and RMSE : 147345.59375\n",
      "Epoch : 1941 and RMSE : 146679.609375\n",
      "Epoch : 1951 and RMSE : 146479.109375\n",
      "Epoch : 1961 and RMSE : 146025.796875\n",
      "Epoch : 1971 and RMSE : 145490.109375\n",
      "Epoch : 1981 and RMSE : 145755.078125\n",
      "Epoch : 1991 and RMSE : 144467.40625\n",
      "Epoch : 2001 and RMSE : 144112.484375\n",
      "Epoch : 2011 and RMSE : 143031.265625\n",
      "Epoch : 2021 and RMSE : 143032.15625\n",
      "Epoch : 2031 and RMSE : 142548.578125\n",
      "Epoch : 2041 and RMSE : 142089.796875\n",
      "Epoch : 2051 and RMSE : 141104.28125\n",
      "Epoch : 2061 and RMSE : 141005.171875\n",
      "Epoch : 2071 and RMSE : 140956.296875\n",
      "Epoch : 2081 and RMSE : 139734.59375\n",
      "Epoch : 2091 and RMSE : 139774.359375\n",
      "Epoch : 2101 and RMSE : 139352.15625\n",
      "Epoch : 2111 and RMSE : 138665.8125\n",
      "Epoch : 2121 and RMSE : 137737.078125\n",
      "Epoch : 2131 and RMSE : 137875.703125\n",
      "Epoch : 2141 and RMSE : 137290.71875\n",
      "Epoch : 2151 and RMSE : 136688.234375\n",
      "Epoch : 2161 and RMSE : 136578.09375\n",
      "Epoch : 2171 and RMSE : 137700.296875\n",
      "Epoch : 2181 and RMSE : 135931.34375\n",
      "Epoch : 2191 and RMSE : 134879.921875\n",
      "Epoch : 2201 and RMSE : 134122.640625\n",
      "Epoch : 2211 and RMSE : 133725.234375\n",
      "Epoch : 2221 and RMSE : 132738.5625\n",
      "Epoch : 2231 and RMSE : 132642.765625\n",
      "Epoch : 2241 and RMSE : 131420.75\n",
      "Epoch : 2251 and RMSE : 131769.515625\n",
      "Epoch : 2261 and RMSE : 130278.90625\n",
      "Epoch : 2271 and RMSE : 130259.0234375\n",
      "Epoch : 2281 and RMSE : 130268.9140625\n",
      "Epoch : 2291 and RMSE : 129531.71875\n",
      "Epoch : 2301 and RMSE : 128832.1484375\n",
      "Epoch : 2311 and RMSE : 128883.0625\n",
      "Epoch : 2321 and RMSE : 128326.421875\n",
      "Epoch : 2331 and RMSE : 128521.7578125\n",
      "Epoch : 2341 and RMSE : 127528.0625\n",
      "Epoch : 2351 and RMSE : 126357.859375\n",
      "Epoch : 2361 and RMSE : 126166.109375\n",
      "Epoch : 2371 and RMSE : 125615.2421875\n",
      "Epoch : 2381 and RMSE : 124696.59375\n",
      "Epoch : 2391 and RMSE : 124799.2890625\n",
      "Epoch : 2401 and RMSE : 124449.609375\n",
      "Epoch : 2411 and RMSE : 123216.3515625\n",
      "Epoch : 2421 and RMSE : 123309.34375\n",
      "Epoch : 2431 and RMSE : 122390.5703125\n",
      "Epoch : 2441 and RMSE : 122486.6171875\n",
      "Epoch : 2451 and RMSE : 121307.7421875\n",
      "Epoch : 2461 and RMSE : 120326.7890625\n",
      "Epoch : 2471 and RMSE : 120638.8046875\n",
      "Epoch : 2481 and RMSE : 121354.0390625\n",
      "Epoch : 2491 and RMSE : 120614.5546875\n",
      "Epoch : 2501 and RMSE : 119649.015625\n",
      "Epoch : 2511 and RMSE : 118664.421875\n",
      "Epoch : 2521 and RMSE : 117742.6953125\n",
      "Epoch : 2531 and RMSE : 118233.2109375\n",
      "Epoch : 2541 and RMSE : 117277.09375\n",
      "Epoch : 2551 and RMSE : 117255.6328125\n",
      "Epoch : 2561 and RMSE : 116382.3828125\n",
      "Epoch : 2571 and RMSE : 115756.2890625\n",
      "Epoch : 2581 and RMSE : 115948.28125\n",
      "Epoch : 2591 and RMSE : 115551.0703125\n",
      "Epoch : 2601 and RMSE : 114284.828125\n",
      "Epoch : 2611 and RMSE : 114315.046875\n",
      "Epoch : 2621 and RMSE : 114605.25\n",
      "Epoch : 2631 and RMSE : 112489.2265625\n",
      "Epoch : 2641 and RMSE : 112162.765625\n",
      "Epoch : 2651 and RMSE : 112147.5546875\n",
      "Epoch : 2661 and RMSE : 111410.09375\n",
      "Epoch : 2671 and RMSE : 110847.1875\n",
      "Epoch : 2681 and RMSE : 109992.4921875\n",
      "Epoch : 2691 and RMSE : 109519.84375\n",
      "Epoch : 2701 and RMSE : 109661.609375\n",
      "Epoch : 2711 and RMSE : 109205.3203125\n",
      "Epoch : 2721 and RMSE : 108899.3515625\n",
      "Epoch : 2731 and RMSE : 108310.2890625\n",
      "Epoch : 2741 and RMSE : 107226.40625\n",
      "Epoch : 2751 and RMSE : 105968.7109375\n",
      "Epoch : 2761 and RMSE : 106184.09375\n",
      "Epoch : 2771 and RMSE : 106671.40625\n",
      "Epoch : 2781 and RMSE : 106638.3203125\n",
      "Epoch : 2791 and RMSE : 104491.453125\n",
      "Epoch : 2801 and RMSE : 103530.265625\n",
      "Epoch : 2811 and RMSE : 103946.3125\n",
      "Epoch : 2821 and RMSE : 102931.3828125\n",
      "Epoch : 2831 and RMSE : 102798.1328125\n",
      "Epoch : 2841 and RMSE : 102277.328125\n",
      "Epoch : 2851 and RMSE : 101241.5234375\n",
      "Epoch : 2861 and RMSE : 101777.3046875\n",
      "Epoch : 2871 and RMSE : 100472.9453125\n",
      "Epoch : 2881 and RMSE : 100781.6796875\n",
      "Epoch : 2891 and RMSE : 100719.4609375\n",
      "Epoch : 2901 and RMSE : 98702.03125\n",
      "Epoch : 2911 and RMSE : 98159.2109375\n",
      "Epoch : 2921 and RMSE : 98222.953125\n",
      "Epoch : 2931 and RMSE : 98755.3203125\n",
      "Epoch : 2941 and RMSE : 96774.3515625\n",
      "Epoch : 2951 and RMSE : 96988.2265625\n",
      "Epoch : 2961 and RMSE : 96671.0703125\n",
      "Epoch : 2971 and RMSE : 95228.984375\n",
      "Epoch : 2981 and RMSE : 95241.5625\n",
      "Epoch : 2991 and RMSE : 94358.328125\n",
      "Epoch : 3001 and RMSE : 93659.53125\n",
      "Epoch : 3011 and RMSE : 93837.125\n",
      "Epoch : 3021 and RMSE : 93621.9921875\n",
      "Epoch : 3031 and RMSE : 92483.9140625\n",
      "Epoch : 3041 and RMSE : 92793.171875\n",
      "Epoch : 3051 and RMSE : 91397.1015625\n",
      "Epoch : 3061 and RMSE : 91866.125\n",
      "Epoch : 3071 and RMSE : 91248.7421875\n",
      "Epoch : 3081 and RMSE : 90697.640625\n",
      "Epoch : 3091 and RMSE : 89880.21875\n",
      "Epoch : 3101 and RMSE : 89321.5546875\n",
      "Epoch : 3111 and RMSE : 89227.9453125\n",
      "Epoch : 3121 and RMSE : 89351.8046875\n",
      "Epoch : 3131 and RMSE : 87730.3203125\n",
      "Epoch : 3141 and RMSE : 87474.5859375\n",
      "Epoch : 3151 and RMSE : 87894.8046875\n",
      "Epoch : 3161 and RMSE : 86004.2578125\n",
      "Epoch : 3171 and RMSE : 86713.6953125\n",
      "Epoch : 3181 and RMSE : 86000.2890625\n",
      "Epoch : 3191 and RMSE : 87096.5078125\n",
      "Epoch : 3201 and RMSE : 84817.7734375\n",
      "Epoch : 3211 and RMSE : 84228.6796875\n",
      "Epoch : 3221 and RMSE : 82962.296875\n",
      "Epoch : 3231 and RMSE : 84282.1015625\n",
      "Epoch : 3241 and RMSE : 82368.0625\n",
      "Epoch : 3251 and RMSE : 81275.09375\n",
      "Epoch : 3261 and RMSE : 81321.234375\n",
      "Epoch : 3271 and RMSE : 81776.6328125\n",
      "Epoch : 3281 and RMSE : 80901.7421875\n",
      "Epoch : 3291 and RMSE : 80511.109375\n",
      "Epoch : 3301 and RMSE : 80147.4140625\n",
      "Epoch : 3311 and RMSE : 79029.0546875\n",
      "Epoch : 3321 and RMSE : 79338.0234375\n",
      "Epoch : 3331 and RMSE : 78144.6015625\n",
      "Epoch : 3341 and RMSE : 77583.6484375\n",
      "Epoch : 3351 and RMSE : 77077.21875\n",
      "Epoch : 3361 and RMSE : 76978.2890625\n",
      "Epoch : 3371 and RMSE : 76365.4765625\n",
      "Epoch : 3381 and RMSE : 75946.296875\n",
      "Epoch : 3391 and RMSE : 74284.234375\n",
      "Epoch : 3401 and RMSE : 74776.515625\n",
      "Epoch : 3411 and RMSE : 74458.4609375\n",
      "Epoch : 3421 and RMSE : 73831.46875\n",
      "Epoch : 3431 and RMSE : 73344.6796875\n",
      "Epoch : 3441 and RMSE : 72265.1015625\n",
      "Epoch : 3451 and RMSE : 72818.6875\n",
      "Epoch : 3461 and RMSE : 72266.390625\n",
      "Epoch : 3471 and RMSE : 70936.25\n",
      "Epoch : 3481 and RMSE : 71100.9921875\n",
      "Epoch : 3491 and RMSE : 70531.7734375\n",
      "Epoch : 3501 and RMSE : 68557.2265625\n",
      "Epoch : 3511 and RMSE : 69157.375\n",
      "Epoch : 3521 and RMSE : 68836.34375\n",
      "Epoch : 3531 and RMSE : 68413.84375\n",
      "Epoch : 3541 and RMSE : 68238.90625\n",
      "Epoch : 3551 and RMSE : 69735.375\n",
      "Epoch : 3561 and RMSE : 66533.859375\n",
      "Epoch : 3571 and RMSE : 66791.7109375\n",
      "Epoch : 3581 and RMSE : 65877.6171875\n",
      "Epoch : 3591 and RMSE : 67614.6171875\n",
      "Epoch : 3601 and RMSE : 64664.15625\n",
      "Epoch : 3611 and RMSE : 64846.44921875\n",
      "Epoch : 3621 and RMSE : 68909.65625\n",
      "Epoch : 3631 and RMSE : 62728.59765625\n",
      "Epoch : 3641 and RMSE : 64623.4921875\n",
      "Epoch : 3651 and RMSE : 62744.515625\n",
      "Epoch : 3661 and RMSE : 63238.328125\n",
      "Epoch : 3671 and RMSE : 62565.82421875\n",
      "Epoch : 3681 and RMSE : 60690.421875\n",
      "Epoch : 3691 and RMSE : 61177.015625\n",
      "Epoch : 3701 and RMSE : 60124.76171875\n",
      "Epoch : 3711 and RMSE : 61423.0859375\n",
      "Epoch : 3721 and RMSE : 59788.84765625\n",
      "Epoch : 3731 and RMSE : 57507.8671875\n",
      "Epoch : 3741 and RMSE : 58124.0859375\n",
      "Epoch : 3751 and RMSE : 59157.10546875\n",
      "Epoch : 3761 and RMSE : 58729.97265625\n",
      "Epoch : 3771 and RMSE : 56941.875\n",
      "Epoch : 3781 and RMSE : 55965.92578125\n",
      "Epoch : 3791 and RMSE : 56487.7421875\n",
      "Epoch : 3801 and RMSE : 55687.9296875\n",
      "Epoch : 3811 and RMSE : 56842.71484375\n",
      "Epoch : 3821 and RMSE : 56679.23046875\n",
      "Epoch : 3831 and RMSE : 54192.109375\n",
      "Epoch : 3841 and RMSE : 53271.83203125\n",
      "Epoch : 3851 and RMSE : 54555.98046875\n",
      "Epoch : 3861 and RMSE : 54380.33984375\n",
      "Epoch : 3871 and RMSE : 52636.49609375\n",
      "Epoch : 3881 and RMSE : 53067.21484375\n",
      "Epoch : 3891 and RMSE : 50426.30859375\n",
      "Epoch : 3901 and RMSE : 53026.0703125\n",
      "Epoch : 3911 and RMSE : 52444.44140625\n",
      "Epoch : 3921 and RMSE : 50926.98046875\n",
      "Epoch : 3931 and RMSE : 50630.625\n",
      "Epoch : 3941 and RMSE : 50503.33203125\n",
      "Epoch : 3951 and RMSE : 49206.41796875\n",
      "Epoch : 3961 and RMSE : 50053.20703125\n",
      "Epoch : 3971 and RMSE : 48467.28125\n",
      "Epoch : 3981 and RMSE : 49283.78125\n",
      "Epoch : 3991 and RMSE : 49174.3984375\n",
      "Epoch : 4001 and RMSE : 48628.6796875\n",
      "Epoch : 4011 and RMSE : 46597.4296875\n",
      "Epoch : 4021 and RMSE : 48398.30859375\n",
      "Epoch : 4031 and RMSE : 44983.20703125\n",
      "Epoch : 4041 and RMSE : 47207.5859375\n",
      "Epoch : 4051 and RMSE : 47647.125\n",
      "Epoch : 4061 and RMSE : 44858.53125\n",
      "Epoch : 4071 and RMSE : 46458.03125\n",
      "Epoch : 4081 and RMSE : 44132.56640625\n",
      "Epoch : 4091 and RMSE : 44973.7421875\n",
      "Epoch : 4101 and RMSE : 43582.69140625\n",
      "Epoch : 4111 and RMSE : 44833.85546875\n",
      "Epoch : 4121 and RMSE : 43760.73046875\n",
      "Epoch : 4131 and RMSE : 43428.96484375\n",
      "Epoch : 4141 and RMSE : 44164.796875\n",
      "Epoch : 4151 and RMSE : 43327.921875\n",
      "Epoch : 4161 and RMSE : 42928.86328125\n",
      "Epoch : 4171 and RMSE : 42085.6171875\n",
      "Epoch : 4181 and RMSE : 41504.87890625\n",
      "Epoch : 4191 and RMSE : 41759.46875\n",
      "Epoch : 4201 and RMSE : 41748.0234375\n",
      "Epoch : 4211 and RMSE : 40787.90234375\n",
      "Epoch : 4221 and RMSE : 40334.04296875\n",
      "Epoch : 4231 and RMSE : 41496.12890625\n",
      "Epoch : 4241 and RMSE : 40417.609375\n",
      "Epoch : 4251 and RMSE : 40583.53125\n",
      "Epoch : 4261 and RMSE : 40899.5234375\n",
      "Epoch : 4271 and RMSE : 40429.12109375\n",
      "Epoch : 4281 and RMSE : 41881.4140625\n",
      "Epoch : 4291 and RMSE : 39022.56640625\n",
      "Epoch : 4301 and RMSE : 39421.75390625\n",
      "Epoch : 4311 and RMSE : 39192.6171875\n",
      "Epoch : 4321 and RMSE : 39433.38671875\n",
      "Epoch : 4331 and RMSE : 39214.3515625\n",
      "Epoch : 4341 and RMSE : 38854.48046875\n",
      "Epoch : 4351 and RMSE : 40384.87890625\n",
      "Epoch : 4361 and RMSE : 39188.421875\n",
      "Epoch : 4371 and RMSE : 37931.7734375\n",
      "Epoch : 4381 and RMSE : 38427.67578125\n",
      "Epoch : 4391 and RMSE : 36153.92578125\n",
      "Epoch : 4401 and RMSE : 36279.83984375\n",
      "Epoch : 4411 and RMSE : 38636.80078125\n",
      "Epoch : 4421 and RMSE : 38539.671875\n",
      "Epoch : 4431 and RMSE : 38597.37109375\n",
      "Epoch : 4441 and RMSE : 37898.46875\n",
      "Epoch : 4451 and RMSE : 38138.0546875\n",
      "Epoch : 4461 and RMSE : 37648.84375\n",
      "Epoch : 4471 and RMSE : 37056.87109375\n",
      "Epoch : 4481 and RMSE : 36594.4765625\n",
      "Epoch : 4491 and RMSE : 36494.97265625\n",
      "Epoch : 4501 and RMSE : 37297.0234375\n",
      "Epoch : 4511 and RMSE : 38049.5078125\n",
      "Epoch : 4521 and RMSE : 37163.1640625\n",
      "Epoch : 4531 and RMSE : 37221.98828125\n",
      "Epoch : 4541 and RMSE : 34620.6953125\n",
      "Epoch : 4551 and RMSE : 34809.890625\n",
      "Epoch : 4561 and RMSE : 37082.91796875\n",
      "Epoch : 4571 and RMSE : 37417.578125\n",
      "Epoch : 4581 and RMSE : 35503.39453125\n",
      "Epoch : 4591 and RMSE : 35231.515625\n",
      "Epoch : 4601 and RMSE : 36869.03515625\n",
      "Epoch : 4611 and RMSE : 34703.21875\n",
      "Epoch : 4621 and RMSE : 35297.546875\n",
      "Epoch : 4631 and RMSE : 35908.8359375\n",
      "Epoch : 4641 and RMSE : 35595.9296875\n",
      "Epoch : 4651 and RMSE : 35008.078125\n",
      "Epoch : 4661 and RMSE : 35137.82421875\n",
      "Epoch : 4671 and RMSE : 37469.6484375\n",
      "Epoch : 4681 and RMSE : 35788.09375\n",
      "Epoch : 4691 and RMSE : 38336.328125\n",
      "Epoch : 4701 and RMSE : 35144.5\n",
      "Epoch : 4711 and RMSE : 34283.84765625\n",
      "Epoch : 4721 and RMSE : 35116.76171875\n",
      "Epoch : 4731 and RMSE : 34757.94140625\n",
      "Epoch : 4741 and RMSE : 35126.58203125\n",
      "Epoch : 4751 and RMSE : 35228.3203125\n",
      "Epoch : 4761 and RMSE : 34801.92578125\n",
      "Epoch : 4771 and RMSE : 35873.890625\n",
      "Epoch : 4781 and RMSE : 33521.328125\n",
      "Epoch : 4791 and RMSE : 35199.265625\n",
      "Epoch : 4801 and RMSE : 36207.19921875\n",
      "Epoch : 4811 and RMSE : 35992.6953125\n",
      "Epoch : 4821 and RMSE : 34587.84375\n",
      "Epoch : 4831 and RMSE : 35361.19921875\n",
      "Epoch : 4841 and RMSE : 35513.29296875\n",
      "Epoch : 4851 and RMSE : 36630.33203125\n",
      "Epoch : 4861 and RMSE : 35659.3203125\n",
      "Epoch : 4871 and RMSE : 35727.19921875\n",
      "Epoch : 4881 and RMSE : 36894.0390625\n",
      "Epoch : 4891 and RMSE : 35394.6875\n",
      "Epoch : 4901 and RMSE : 35231.3203125\n",
      "Epoch : 4911 and RMSE : 35019.578125\n",
      "Epoch : 4921 and RMSE : 34585.47265625\n",
      "Epoch : 4931 and RMSE : 35791.5\n",
      "Epoch : 4941 and RMSE : 36054.33203125\n",
      "Epoch : 4951 and RMSE : 33244.43359375\n",
      "Epoch : 4961 and RMSE : 34910.17578125\n",
      "Epoch : 4971 and RMSE : 36628.265625\n",
      "Epoch : 4981 and RMSE : 35726.95703125\n",
      "Epoch : 4991 and RMSE : 33448.8203125\n"
     ]
    }
   ],
   "source": [
    "epochs = 5000\n",
    "final_losses = []\n",
    "for i in range(epochs):\n",
    "    i = i+1\n",
    "    y_pred = model(train_categorical, train_cont)\n",
    "    loss = torch.sqrt(loss_func(y_pred, y_train))\n",
    "    final_losses.append(loss)\n",
    "    if i % 10 == 1:\n",
    "        print('Epoch : {} and RMSE : {}'.format(i, loss.item()))\n",
    "    \n",
    "    optimizer.zero_grad()\n",
    "    loss.backward()\n",
    "    optimizer.step()"
   ]
  },
  {
   "cell_type": "code",
   "execution_count": 41,
   "id": "9288cba7",
   "metadata": {
    "execution": {
     "iopub.execute_input": "2024-09-18T14:53:01.966949Z",
     "iopub.status.busy": "2024-09-18T14:53:01.966445Z",
     "iopub.status.idle": "2024-09-18T14:53:02.331741Z",
     "shell.execute_reply": "2024-09-18T14:53:02.330350Z"
    },
    "papermill": {
     "duration": 0.40607,
     "end_time": "2024-09-18T14:53:02.334671",
     "exception": false,
     "start_time": "2024-09-18T14:53:01.928601",
     "status": "completed"
    },
    "tags": []
   },
   "outputs": [
    {
     "data": {
      "text/plain": [
       "Text(0.5, 0, 'Epochs')"
      ]
     },
     "execution_count": 41,
     "metadata": {},
     "output_type": "execute_result"
    },
    {
     "data": {
      "image/png": "[encoded data removed]",
      "text/plain": [
       "<Figure size 640x480 with 1 Axes>"
      ]
     },
     "metadata": {},
     "output_type": "display_data"
    }
   ],
   "source": [
    "#plot the loss function\n",
    "import matplotlib.pyplot as plt\n",
    "\n",
    "final_losses_np = [loss.detach().numpy() for loss in final_losses]\n",
    "plt.plot(range(epochs), final_losses_np)\n",
    "plt.ylabel(\"Loss\")\n",
    "plt.xlabel(\"Epochs\")"
   ]
  },
  {
   "cell_type": "code",
   "execution_count": 42,
   "id": "26147b53",
   "metadata": {
    "execution": {
     "iopub.execute_input": "2024-09-18T14:53:02.407976Z",
     "iopub.status.busy": "2024-09-18T14:53:02.407512Z",
     "iopub.status.idle": "2024-09-18T14:53:02.417581Z",
     "shell.execute_reply": "2024-09-18T14:53:02.416147Z"
    },
    "papermill": {
     "duration": 0.049606,
     "end_time": "2024-09-18T14:53:02.419959",
     "exception": false,
     "start_time": "2024-09-18T14:53:02.370353",
     "status": "completed"
    },
    "tags": []
   },
   "outputs": [
    {
     "name": "stdout",
     "output_type": "stream",
     "text": [
      "RMSE: 38369.91015625\n"
     ]
    }
   ],
   "source": [
    "y_pred = ''\n",
    "with torch.no_grad():\n",
    "    y_pred = model(test_categorical, test_cont)\n",
    "    loss = torch.sqrt(loss_func(y_pred, y_test))\n",
    "    \n",
    "print('RMSE: {}'.format(loss))"
   ]
  },
  {
   "cell_type": "code",
   "execution_count": 43,
   "id": "95e3a8b2",
   "metadata": {
    "execution": {
     "iopub.execute_input": "2024-09-18T14:53:02.492915Z",
     "iopub.status.busy": "2024-09-18T14:53:02.492122Z",
     "iopub.status.idle": "2024-09-18T14:53:02.498317Z",
     "shell.execute_reply": "2024-09-18T14:53:02.497178Z"
    },
    "papermill": {
     "duration": 0.044832,
     "end_time": "2024-09-18T14:53:02.500822",
     "exception": false,
     "start_time": "2024-09-18T14:53:02.455990",
     "status": "completed"
    },
    "tags": []
   },
   "outputs": [],
   "source": [
    "data_verify = pd.DataFrame(y_test.tolist(), columns = ['Test'])"
   ]
  },
  {
   "cell_type": "code",
   "execution_count": 44,
   "id": "8caf0756",
   "metadata": {
    "execution": {
     "iopub.execute_input": "2024-09-18T14:53:02.573419Z",
     "iopub.status.busy": "2024-09-18T14:53:02.572126Z",
     "iopub.status.idle": "2024-09-18T14:53:02.578580Z",
     "shell.execute_reply": "2024-09-18T14:53:02.577567Z"
    },
    "papermill": {
     "duration": 0.04508,
     "end_time": "2024-09-18T14:53:02.581023",
     "exception": false,
     "start_time": "2024-09-18T14:53:02.535943",
     "status": "completed"
    },
    "tags": []
   },
   "outputs": [],
   "source": [
    "data_predicted = pd.DataFrame(y_pred.tolist(), columns = ['Prediction'])"
   ]
  },
  {
   "cell_type": "code",
   "execution_count": 45,
   "id": "e1bdadd8",
   "metadata": {
    "execution": {
     "iopub.execute_input": "2024-09-18T14:53:02.653024Z",
     "iopub.status.busy": "2024-09-18T14:53:02.652584Z",
     "iopub.status.idle": "2024-09-18T14:53:02.664753Z",
     "shell.execute_reply": "2024-09-18T14:53:02.663678Z"
    },
    "papermill": {
     "duration": 0.05083,
     "end_time": "2024-09-18T14:53:02.667231",
     "exception": false,
     "start_time": "2024-09-18T14:53:02.616401",
     "status": "completed"
    },
    "tags": []
   },
   "outputs": [
    {
     "data": {
      "text/html": [
       "<div>\n",
       "<style scoped>\n",
       "    .dataframe tbody tr th:only-of-type {\n",
       "        vertical-align: middle;\n",
       "    }\n",
       "\n",
       "    .dataframe tbody tr th {\n",
       "        vertical-align: top;\n",
       "    }\n",
       "\n",
       "    .dataframe thead th {\n",
       "        text-align: right;\n",
       "    }\n",
       "</style>\n",
       "<table border=\"1\" class=\"dataframe\">\n",
       "  <thead>\n",
       "    <tr style=\"text-align: right;\">\n",
       "      <th></th>\n",
       "      <th>Prediction</th>\n",
       "    </tr>\n",
       "  </thead>\n",
       "  <tbody>\n",
       "    <tr>\n",
       "      <th>0</th>\n",
       "      <td>124045.992188</td>\n",
       "    </tr>\n",
       "    <tr>\n",
       "      <th>1</th>\n",
       "      <td>205638.968750</td>\n",
       "    </tr>\n",
       "    <tr>\n",
       "      <th>2</th>\n",
       "      <td>153325.156250</td>\n",
       "    </tr>\n",
       "    <tr>\n",
       "      <th>3</th>\n",
       "      <td>219959.359375</td>\n",
       "    </tr>\n",
       "    <tr>\n",
       "      <th>4</th>\n",
       "      <td>205680.750000</td>\n",
       "    </tr>\n",
       "    <tr>\n",
       "      <th>...</th>\n",
       "      <td>...</td>\n",
       "    </tr>\n",
       "    <tr>\n",
       "      <th>175</th>\n",
       "      <td>182558.890625</td>\n",
       "    </tr>\n",
       "    <tr>\n",
       "      <th>176</th>\n",
       "      <td>183644.468750</td>\n",
       "    </tr>\n",
       "    <tr>\n",
       "      <th>177</th>\n",
       "      <td>254551.906250</td>\n",
       "    </tr>\n",
       "    <tr>\n",
       "      <th>178</th>\n",
       "      <td>221337.250000</td>\n",
       "    </tr>\n",
       "    <tr>\n",
       "      <th>179</th>\n",
       "      <td>118293.359375</td>\n",
       "    </tr>\n",
       "  </tbody>\n",
       "</table>\n",
       "<p>180 rows × 1 columns</p>\n",
       "</div>"
      ],
      "text/plain": [
       "        Prediction\n",
       "0    124045.992188\n",
       "1    205638.968750\n",
       "2    153325.156250\n",
       "3    219959.359375\n",
       "4    205680.750000\n",
       "..             ...\n",
       "175  182558.890625\n",
       "176  183644.468750\n",
       "177  254551.906250\n",
       "178  221337.250000\n",
       "179  118293.359375\n",
       "\n",
       "[180 rows x 1 columns]"
      ]
     },
     "execution_count": 45,
     "metadata": {},
     "output_type": "execute_result"
    }
   ],
   "source": [
    "data_predicted"
   ]
  },
  {
   "cell_type": "code",
   "execution_count": 46,
   "id": "56f4cc85",
   "metadata": {
    "execution": {
     "iopub.execute_input": "2024-09-18T14:53:02.740228Z",
     "iopub.status.busy": "2024-09-18T14:53:02.739180Z",
     "iopub.status.idle": "2024-09-18T14:53:02.754540Z",
     "shell.execute_reply": "2024-09-18T14:53:02.753427Z"
    },
    "papermill": {
     "duration": 0.054359,
     "end_time": "2024-09-18T14:53:02.757022",
     "exception": false,
     "start_time": "2024-09-18T14:53:02.702663",
     "status": "completed"
    },
    "tags": []
   },
   "outputs": [
    {
     "data": {
      "text/html": [
       "<div>\n",
       "<style scoped>\n",
       "    .dataframe tbody tr th:only-of-type {\n",
       "        vertical-align: middle;\n",
       "    }\n",
       "\n",
       "    .dataframe tbody tr th {\n",
       "        vertical-align: top;\n",
       "    }\n",
       "\n",
       "    .dataframe thead th {\n",
       "        text-align: right;\n",
       "    }\n",
       "</style>\n",
       "<table border=\"1\" class=\"dataframe\">\n",
       "  <thead>\n",
       "    <tr style=\"text-align: right;\">\n",
       "      <th></th>\n",
       "      <th>Test</th>\n",
       "      <th>Prediction</th>\n",
       "      <th>Difference</th>\n",
       "    </tr>\n",
       "  </thead>\n",
       "  <tbody>\n",
       "    <tr>\n",
       "      <th>0</th>\n",
       "      <td>130000.0</td>\n",
       "      <td>124045.992188</td>\n",
       "      <td>5954.007812</td>\n",
       "    </tr>\n",
       "    <tr>\n",
       "      <th>1</th>\n",
       "      <td>138887.0</td>\n",
       "      <td>205638.968750</td>\n",
       "      <td>-66751.968750</td>\n",
       "    </tr>\n",
       "    <tr>\n",
       "      <th>2</th>\n",
       "      <td>175500.0</td>\n",
       "      <td>153325.156250</td>\n",
       "      <td>22174.843750</td>\n",
       "    </tr>\n",
       "    <tr>\n",
       "      <th>3</th>\n",
       "      <td>195000.0</td>\n",
       "      <td>219959.359375</td>\n",
       "      <td>-24959.359375</td>\n",
       "    </tr>\n",
       "    <tr>\n",
       "      <th>4</th>\n",
       "      <td>142500.0</td>\n",
       "      <td>205680.750000</td>\n",
       "      <td>-63180.750000</td>\n",
       "    </tr>\n",
       "  </tbody>\n",
       "</table>\n",
       "</div>"
      ],
      "text/plain": [
       "       Test     Prediction    Difference\n",
       "0  130000.0  124045.992188   5954.007812\n",
       "1  138887.0  205638.968750 -66751.968750\n",
       "2  175500.0  153325.156250  22174.843750\n",
       "3  195000.0  219959.359375 -24959.359375\n",
       "4  142500.0  205680.750000 -63180.750000"
      ]
     },
     "execution_count": 46,
     "metadata": {},
     "output_type": "execute_result"
    }
   ],
   "source": [
    "final_output = pd.concat([data_verify, data_predicted], axis = 1)\n",
    "final_output['Difference'] = final_output['Test'] - final_output['Prediction']\n",
    "final_output.head()"
   ]
  },
  {
   "cell_type": "code",
   "execution_count": null,
   "id": "a1cee4c3",
   "metadata": {
    "papermill": {
     "duration": 0.035725,
     "end_time": "2024-09-18T14:53:02.830384",
     "exception": false,
     "start_time": "2024-09-18T14:53:02.794659",
     "status": "completed"
    },
    "tags": []
   },
   "outputs": [],
   "source": []
  }
 ],
 "metadata": {
  "kaggle": {
   "accelerator": "none",
   "dataSources": [
    {
     "databundleVersionId": 868283,
     "sourceId": 5407,
     "sourceType": "competition"
    }
   ],
   "dockerImageVersionId": 30761,
   "isGpuEnabled": false,
   "isInternetEnabled": true,
   "language": "python",
   "sourceType": "notebook"
  },
  "kernelspec": {
   "display_name": "Python 3",
   "language": "python",
   "name": "python3"
  },
  "language_info": {
   "codemirror_mode": {
    "name": "ipython",
    "version": 3
   },
   "file_extension": ".py",
   "mimetype": "text/x-python",
   "name": "python",
   "nbconvert_exporter": "python",
   "pygments_lexer": "ipython3",
   "version": "3.10.14"
  },
  "papermill": {
   "default_parameters": {},
   "duration": 56.655871,
   "end_time": "2024-09-18T14:53:05.851380",
   "environment_variables": {},
   "exception": null,
   "input_path": "__notebook__.ipynb",
   "output_path": "__notebook__.ipynb",
   "parameters": {},
   "start_time": "2024-09-18T14:52:09.195509",
   "version": "2.6.0"
  }
 },
 "nbformat": 4,
 "nbformat_minor": 5
}
